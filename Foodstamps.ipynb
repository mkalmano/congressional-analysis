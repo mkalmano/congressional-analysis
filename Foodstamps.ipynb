{
  "nbformat": 4,
  "nbformat_minor": 0,
  "metadata": {
    "colab": {
      "provenance": [],
      "include_colab_link": true
    },
    "kernelspec": {
      "name": "python3",
      "display_name": "Python 3"
    },
    "language_info": {
      "name": "python"
    }
  },
  "cells": [
    {
      "cell_type": "markdown",
      "metadata": {
        "id": "view-in-github",
        "colab_type": "text"
      },
      "source": [
        "<a href=\"https://colab.research.google.com/github/mkalmano/congressional-analysis/blob/main/Foodstamps.ipynb\" target=\"_parent\"><img src=\"https://colab.research.google.com/assets/colab-badge.svg\" alt=\"Open In Colab\"/></a>"
      ]
    },
    {
      "cell_type": "markdown",
      "source": [
        "# **Foodstamps in Democrat vs Republican Districts**"
      ],
      "metadata": {
        "id": "rktmt87n1YoS"
      }
    },
    {
      "cell_type": "markdown",
      "source": [
        "Maksim Kalmanovich (mkalmano@calpoly.edu)\n",
        "\n",
        "Braden desGarennes (bdesgare@calpoly.edu)\n",
        "\n",
        "February 2023"
      ],
      "metadata": {
        "id": "vH0X8fabEdpB"
      }
    },
    {
      "cell_type": "code",
      "execution_count": null,
      "metadata": {
        "id": "my4IotS2mzq5"
      },
      "outputs": [],
      "source": [
        "# first some initial setup of libraries we will be using\n",
        "import pandas as pd # this is the main library used in python for manipulating data. \n",
        "import json # this is a library to parse json (javascript object notation)\n",
        "from urllib.request import urlopen # library to read data from a URL\n",
        "import matplotlib.pyplot as plt # visualization library we will use that integrates with pandas"
      ]
    },
    {
      "cell_type": "markdown",
      "source": [
        "## Reasoning and Hypothesis\n",
        "\n",
        "In modern society, there are people living in the United States who are impacted by unemployment, low wages, and disibilities and need nutritional support and public aid. Historically, it is a common Republican argument that Democrats want \"handouts\" and free government assistance as seen by the below video and articles: \n",
        "\n",
        "[FOX: Democrats Want Americans Dependent on Government Handouts](https://youtu.be/Zd61RiA4A4M)\n",
        "\n",
        "[Republican Policy Committee: Democrats Plot Massive Government Handouts](https://www.rpc.senate.gov/policy-papers/democrats-plot-massive-government-handouts)\n",
        "\n",
        "[NY Post: Democrats’ push for guaranteed income is a slap in the face to working people](https://nypost.com/2022/09/20/democrats-push-for-guaranteed-income-is-a-slap-in-the-face-to-working-people/)\n",
        "\n",
        "We wanted to see if the data backs up these theories in relation to Democratic cities in the United States and see if a common government support \"handout\", foodstamps, is really more prevelant in cities that are run by Democrats. \n",
        "\n",
        "For some background, the current criteria for obtaining foodstamps is as follows. (The data we have is from 2020 so criteria may have slightly shifted since).  \n",
        "\n",
        "*   Gross Monthly Income: Must be at or below 130% of poverty line.\n",
        "*   Net Income or houshold income: After deductions are applied must be at or below poverty line\n",
        "* Assets: Households without a member who is age 60 or older or who has a disability must have assets of 2,750 or less, and households with such a member must have assets of 4,250 or less\n",
        "\n",
        "([Source](https://www.cbpp.org/research/food-assistance/a-quick-guide-to-snap-eligibility-and-benefits#:~:text=Gross%20monthly%20income%20%E2%80%94%20that%20is,2023%20is%20%241%2C920%20a%20month.)) \n",
        "\n",
        "Although food stamps are a Federal program, in order to recieve benefits one has to apply to recieve the benefit and have a valid ID. \n",
        "\n",
        "**Hypothesis:** The districts with individuals who recieve the most amount of foodstamps are mostly Democratic."
      ],
      "metadata": {
        "id": "p3WeLqhj1aED"
      }
    },
    {
      "cell_type": "markdown",
      "source": [
        "## Read in Census Data"
      ],
      "metadata": {
        "id": "saubwGsTKCB-"
      }
    },
    {
      "cell_type": "code",
      "source": [
        "# We are reading in the data we want from ACS 2021. The API returns json data. Try copy and pasting the link yourself in a browser to see what the raw data looks like.\n",
        "url=\"https://api.census.gov/data/2021/acs/acs1?get=NAME,B22010_001E,B22010_002E,B22010_005E,B19001_002E,B19001_017E&for=congressional%20district:*&in=state:*\"\n",
        "\n",
        "# store the response of URL\n",
        "response = urlopen(url)\n",
        "\n",
        "# storing the JSON response from url in data\n",
        "data_json = json.loads(response.read())\n",
        "data_json.pop(0) # the first row of data is header information which we don't need, so pop removes that from the dataset.\n",
        "\n",
        "# Hand populate the columns based on the variable descriptions census.gov documents here: https://api.census.gov/data/2021/acs/acs1/variables.html. Note they correspond back to the variable names I included in the URL above.\n",
        "cols = ['District Name','Total Households','Recieved Foodstamps', 'No Foodstamps','Less than 10k','More than 200k', 'State code', 'district number']\n",
        "\n",
        "acs_df = pd.DataFrame(data_json, columns = cols)\n",
        "\n",
        "# time to do some basic cleanup of the data. We will need to extract the district number and state in a regular format so we can later join with the party data.\n",
        "acs_df[['District', 'State']] = acs_df['District Name'].str.split(',', expand=True)\n",
        "acs_df['district number'] = pd.to_numeric(acs_df['district number'])\n",
        "\n",
        "acs_df['State'] = acs_df['State'].str.strip()\n",
        "\n",
        "# Let's just keep the columns we need\n",
        "acs_df = acs_df[['Total Households', 'Recieved Foodstamps', \"No Foodstamps\",'Less than 10k','More than 200k', 'district number', 'State']]\n",
        "\n",
        "# take a look at the top results in the dataset\n",
        "acs_df.head()"
      ],
      "metadata": {
        "id": "5oTRPxLax32E",
        "colab": {
          "base_uri": "https://localhost:8080/",
          "height": 206
        },
        "outputId": "148373a7-8b1a-40e2-cdb3-0757da4590bb"
      },
      "execution_count": null,
      "outputs": [
        {
          "output_type": "execute_result",
          "data": {
            "text/plain": [
              "  Total Households Recieved Foodstamps No Foodstamps Less than 10k  \\\n",
              "0           289474               29587        259887         14153   \n",
              "1           299804               39629        260175         23793   \n",
              "2           278057               68311        209746         27728   \n",
              "3           306685               33726        272959         19036   \n",
              "4           285554               28441        257113         26481   \n",
              "\n",
              "  More than 200k  district number        State  \n",
              "0          19390               10     Michigan  \n",
              "1          10899                4  Mississippi  \n",
              "2          19574               14     Michigan  \n",
              "3          12208                1     Michigan  \n",
              "4          12412                3  Mississippi  "
            ],
            "text/html": [
              "\n",
              "  <div id=\"df-23093886-8271-4689-8a0e-7e27e066a5e9\">\n",
              "    <div class=\"colab-df-container\">\n",
              "      <div>\n",
              "<style scoped>\n",
              "    .dataframe tbody tr th:only-of-type {\n",
              "        vertical-align: middle;\n",
              "    }\n",
              "\n",
              "    .dataframe tbody tr th {\n",
              "        vertical-align: top;\n",
              "    }\n",
              "\n",
              "    .dataframe thead th {\n",
              "        text-align: right;\n",
              "    }\n",
              "</style>\n",
              "<table border=\"1\" class=\"dataframe\">\n",
              "  <thead>\n",
              "    <tr style=\"text-align: right;\">\n",
              "      <th></th>\n",
              "      <th>Total Households</th>\n",
              "      <th>Recieved Foodstamps</th>\n",
              "      <th>No Foodstamps</th>\n",
              "      <th>Less than 10k</th>\n",
              "      <th>More than 200k</th>\n",
              "      <th>district number</th>\n",
              "      <th>State</th>\n",
              "    </tr>\n",
              "  </thead>\n",
              "  <tbody>\n",
              "    <tr>\n",
              "      <th>0</th>\n",
              "      <td>289474</td>\n",
              "      <td>29587</td>\n",
              "      <td>259887</td>\n",
              "      <td>14153</td>\n",
              "      <td>19390</td>\n",
              "      <td>10</td>\n",
              "      <td>Michigan</td>\n",
              "    </tr>\n",
              "    <tr>\n",
              "      <th>1</th>\n",
              "      <td>299804</td>\n",
              "      <td>39629</td>\n",
              "      <td>260175</td>\n",
              "      <td>23793</td>\n",
              "      <td>10899</td>\n",
              "      <td>4</td>\n",
              "      <td>Mississippi</td>\n",
              "    </tr>\n",
              "    <tr>\n",
              "      <th>2</th>\n",
              "      <td>278057</td>\n",
              "      <td>68311</td>\n",
              "      <td>209746</td>\n",
              "      <td>27728</td>\n",
              "      <td>19574</td>\n",
              "      <td>14</td>\n",
              "      <td>Michigan</td>\n",
              "    </tr>\n",
              "    <tr>\n",
              "      <th>3</th>\n",
              "      <td>306685</td>\n",
              "      <td>33726</td>\n",
              "      <td>272959</td>\n",
              "      <td>19036</td>\n",
              "      <td>12208</td>\n",
              "      <td>1</td>\n",
              "      <td>Michigan</td>\n",
              "    </tr>\n",
              "    <tr>\n",
              "      <th>4</th>\n",
              "      <td>285554</td>\n",
              "      <td>28441</td>\n",
              "      <td>257113</td>\n",
              "      <td>26481</td>\n",
              "      <td>12412</td>\n",
              "      <td>3</td>\n",
              "      <td>Mississippi</td>\n",
              "    </tr>\n",
              "  </tbody>\n",
              "</table>\n",
              "</div>\n",
              "      <button class=\"colab-df-convert\" onclick=\"convertToInteractive('df-23093886-8271-4689-8a0e-7e27e066a5e9')\"\n",
              "              title=\"Convert this dataframe to an interactive table.\"\n",
              "              style=\"display:none;\">\n",
              "        \n",
              "  <svg xmlns=\"http://www.w3.org/2000/svg\" height=\"24px\"viewBox=\"0 0 24 24\"\n",
              "       width=\"24px\">\n",
              "    <path d=\"M0 0h24v24H0V0z\" fill=\"none\"/>\n",
              "    <path d=\"M18.56 5.44l.94 2.06.94-2.06 2.06-.94-2.06-.94-.94-2.06-.94 2.06-2.06.94zm-11 1L8.5 8.5l.94-2.06 2.06-.94-2.06-.94L8.5 2.5l-.94 2.06-2.06.94zm10 10l.94 2.06.94-2.06 2.06-.94-2.06-.94-.94-2.06-.94 2.06-2.06.94z\"/><path d=\"M17.41 7.96l-1.37-1.37c-.4-.4-.92-.59-1.43-.59-.52 0-1.04.2-1.43.59L10.3 9.45l-7.72 7.72c-.78.78-.78 2.05 0 2.83L4 21.41c.39.39.9.59 1.41.59.51 0 1.02-.2 1.41-.59l7.78-7.78 2.81-2.81c.8-.78.8-2.07 0-2.86zM5.41 20L4 18.59l7.72-7.72 1.47 1.35L5.41 20z\"/>\n",
              "  </svg>\n",
              "      </button>\n",
              "      \n",
              "  <style>\n",
              "    .colab-df-container {\n",
              "      display:flex;\n",
              "      flex-wrap:wrap;\n",
              "      gap: 12px;\n",
              "    }\n",
              "\n",
              "    .colab-df-convert {\n",
              "      background-color: #E8F0FE;\n",
              "      border: none;\n",
              "      border-radius: 50%;\n",
              "      cursor: pointer;\n",
              "      display: none;\n",
              "      fill: #1967D2;\n",
              "      height: 32px;\n",
              "      padding: 0 0 0 0;\n",
              "      width: 32px;\n",
              "    }\n",
              "\n",
              "    .colab-df-convert:hover {\n",
              "      background-color: #E2EBFA;\n",
              "      box-shadow: 0px 1px 2px rgba(60, 64, 67, 0.3), 0px 1px 3px 1px rgba(60, 64, 67, 0.15);\n",
              "      fill: #174EA6;\n",
              "    }\n",
              "\n",
              "    [theme=dark] .colab-df-convert {\n",
              "      background-color: #3B4455;\n",
              "      fill: #D2E3FC;\n",
              "    }\n",
              "\n",
              "    [theme=dark] .colab-df-convert:hover {\n",
              "      background-color: #434B5C;\n",
              "      box-shadow: 0px 1px 3px 1px rgba(0, 0, 0, 0.15);\n",
              "      filter: drop-shadow(0px 1px 2px rgba(0, 0, 0, 0.3));\n",
              "      fill: #FFFFFF;\n",
              "    }\n",
              "  </style>\n",
              "\n",
              "      <script>\n",
              "        const buttonEl =\n",
              "          document.querySelector('#df-23093886-8271-4689-8a0e-7e27e066a5e9 button.colab-df-convert');\n",
              "        buttonEl.style.display =\n",
              "          google.colab.kernel.accessAllowed ? 'block' : 'none';\n",
              "\n",
              "        async function convertToInteractive(key) {\n",
              "          const element = document.querySelector('#df-23093886-8271-4689-8a0e-7e27e066a5e9');\n",
              "          const dataTable =\n",
              "            await google.colab.kernel.invokeFunction('convertToInteractive',\n",
              "                                                     [key], {});\n",
              "          if (!dataTable) return;\n",
              "\n",
              "          const docLinkHtml = 'Like what you see? Visit the ' +\n",
              "            '<a target=\"_blank\" href=https://colab.research.google.com/notebooks/data_table.ipynb>data table notebook</a>'\n",
              "            + ' to learn more about interactive tables.';\n",
              "          element.innerHTML = '';\n",
              "          dataTable['output_type'] = 'display_data';\n",
              "          await google.colab.output.renderOutput(dataTable, element);\n",
              "          const docLink = document.createElement('div');\n",
              "          docLink.innerHTML = docLinkHtml;\n",
              "          element.appendChild(docLink);\n",
              "        }\n",
              "      </script>\n",
              "    </div>\n",
              "  </div>\n",
              "  "
            ]
          },
          "metadata": {},
          "execution_count": 20
        }
      ]
    },
    {
      "cell_type": "markdown",
      "source": [
        "## Read in Party Data"
      ],
      "metadata": {
        "id": "81G-yiqtKWmw"
      }
    },
    {
      "cell_type": "code",
      "source": [
        "party_df = pd.read_csv(\"http://goodcsv.com/wp-content/uploads/2020/08/us-house-of-representatives-2020.csv\", encoding = \"ISO-8859-1\")\n",
        "\n",
        "# extract the district number from the data (it was in the format of 5th and we want that to just be 5) using a regular expression.\n",
        "party_df['district number'] = party_df['District/Position'].str.extract('(\\d+)')\n",
        "party_df['district number'] = party_df['district number'].fillna(0)\n",
        "party_df['district number'] = pd.to_numeric(party_df['district number'])\n",
        "party_df['State'] = party_df['State/Territory']\n",
        "party_df['State'] = party_df['State'].str.strip()\n",
        "party_df['Party'] = party_df['Party'].str.strip() # remove extraneous whitespace\n",
        "\n",
        "# Let's just keep the columns we need\n",
        "party_df = party_df[['State', 'Party', \"district number\"]]\n",
        "\n",
        "party_df.head(5)"
      ],
      "metadata": {
        "colab": {
          "base_uri": "https://localhost:8080/",
          "height": 206
        },
        "id": "dUFSkmGv6ZDz",
        "outputId": "68659c92-8269-4012-e4f6-ff10f7bb64c2"
      },
      "execution_count": null,
      "outputs": [
        {
          "output_type": "execute_result",
          "data": {
            "text/plain": [
              "            State Party  district number\n",
              "0       Louisiana     R                5\n",
              "1  North Carolina     D               12\n",
              "2         Alabama     R                4\n",
              "3      California     D               31\n",
              "4         Georgia     R               12"
            ],
            "text/html": [
              "\n",
              "  <div id=\"df-f66b527f-7510-4d66-9a13-69ff47c0ec80\">\n",
              "    <div class=\"colab-df-container\">\n",
              "      <div>\n",
              "<style scoped>\n",
              "    .dataframe tbody tr th:only-of-type {\n",
              "        vertical-align: middle;\n",
              "    }\n",
              "\n",
              "    .dataframe tbody tr th {\n",
              "        vertical-align: top;\n",
              "    }\n",
              "\n",
              "    .dataframe thead th {\n",
              "        text-align: right;\n",
              "    }\n",
              "</style>\n",
              "<table border=\"1\" class=\"dataframe\">\n",
              "  <thead>\n",
              "    <tr style=\"text-align: right;\">\n",
              "      <th></th>\n",
              "      <th>State</th>\n",
              "      <th>Party</th>\n",
              "      <th>district number</th>\n",
              "    </tr>\n",
              "  </thead>\n",
              "  <tbody>\n",
              "    <tr>\n",
              "      <th>0</th>\n",
              "      <td>Louisiana</td>\n",
              "      <td>R</td>\n",
              "      <td>5</td>\n",
              "    </tr>\n",
              "    <tr>\n",
              "      <th>1</th>\n",
              "      <td>North Carolina</td>\n",
              "      <td>D</td>\n",
              "      <td>12</td>\n",
              "    </tr>\n",
              "    <tr>\n",
              "      <th>2</th>\n",
              "      <td>Alabama</td>\n",
              "      <td>R</td>\n",
              "      <td>4</td>\n",
              "    </tr>\n",
              "    <tr>\n",
              "      <th>3</th>\n",
              "      <td>California</td>\n",
              "      <td>D</td>\n",
              "      <td>31</td>\n",
              "    </tr>\n",
              "    <tr>\n",
              "      <th>4</th>\n",
              "      <td>Georgia</td>\n",
              "      <td>R</td>\n",
              "      <td>12</td>\n",
              "    </tr>\n",
              "  </tbody>\n",
              "</table>\n",
              "</div>\n",
              "      <button class=\"colab-df-convert\" onclick=\"convertToInteractive('df-f66b527f-7510-4d66-9a13-69ff47c0ec80')\"\n",
              "              title=\"Convert this dataframe to an interactive table.\"\n",
              "              style=\"display:none;\">\n",
              "        \n",
              "  <svg xmlns=\"http://www.w3.org/2000/svg\" height=\"24px\"viewBox=\"0 0 24 24\"\n",
              "       width=\"24px\">\n",
              "    <path d=\"M0 0h24v24H0V0z\" fill=\"none\"/>\n",
              "    <path d=\"M18.56 5.44l.94 2.06.94-2.06 2.06-.94-2.06-.94-.94-2.06-.94 2.06-2.06.94zm-11 1L8.5 8.5l.94-2.06 2.06-.94-2.06-.94L8.5 2.5l-.94 2.06-2.06.94zm10 10l.94 2.06.94-2.06 2.06-.94-2.06-.94-.94-2.06-.94 2.06-2.06.94z\"/><path d=\"M17.41 7.96l-1.37-1.37c-.4-.4-.92-.59-1.43-.59-.52 0-1.04.2-1.43.59L10.3 9.45l-7.72 7.72c-.78.78-.78 2.05 0 2.83L4 21.41c.39.39.9.59 1.41.59.51 0 1.02-.2 1.41-.59l7.78-7.78 2.81-2.81c.8-.78.8-2.07 0-2.86zM5.41 20L4 18.59l7.72-7.72 1.47 1.35L5.41 20z\"/>\n",
              "  </svg>\n",
              "      </button>\n",
              "      \n",
              "  <style>\n",
              "    .colab-df-container {\n",
              "      display:flex;\n",
              "      flex-wrap:wrap;\n",
              "      gap: 12px;\n",
              "    }\n",
              "\n",
              "    .colab-df-convert {\n",
              "      background-color: #E8F0FE;\n",
              "      border: none;\n",
              "      border-radius: 50%;\n",
              "      cursor: pointer;\n",
              "      display: none;\n",
              "      fill: #1967D2;\n",
              "      height: 32px;\n",
              "      padding: 0 0 0 0;\n",
              "      width: 32px;\n",
              "    }\n",
              "\n",
              "    .colab-df-convert:hover {\n",
              "      background-color: #E2EBFA;\n",
              "      box-shadow: 0px 1px 2px rgba(60, 64, 67, 0.3), 0px 1px 3px 1px rgba(60, 64, 67, 0.15);\n",
              "      fill: #174EA6;\n",
              "    }\n",
              "\n",
              "    [theme=dark] .colab-df-convert {\n",
              "      background-color: #3B4455;\n",
              "      fill: #D2E3FC;\n",
              "    }\n",
              "\n",
              "    [theme=dark] .colab-df-convert:hover {\n",
              "      background-color: #434B5C;\n",
              "      box-shadow: 0px 1px 3px 1px rgba(0, 0, 0, 0.15);\n",
              "      filter: drop-shadow(0px 1px 2px rgba(0, 0, 0, 0.3));\n",
              "      fill: #FFFFFF;\n",
              "    }\n",
              "  </style>\n",
              "\n",
              "      <script>\n",
              "        const buttonEl =\n",
              "          document.querySelector('#df-f66b527f-7510-4d66-9a13-69ff47c0ec80 button.colab-df-convert');\n",
              "        buttonEl.style.display =\n",
              "          google.colab.kernel.accessAllowed ? 'block' : 'none';\n",
              "\n",
              "        async function convertToInteractive(key) {\n",
              "          const element = document.querySelector('#df-f66b527f-7510-4d66-9a13-69ff47c0ec80');\n",
              "          const dataTable =\n",
              "            await google.colab.kernel.invokeFunction('convertToInteractive',\n",
              "                                                     [key], {});\n",
              "          if (!dataTable) return;\n",
              "\n",
              "          const docLinkHtml = 'Like what you see? Visit the ' +\n",
              "            '<a target=\"_blank\" href=https://colab.research.google.com/notebooks/data_table.ipynb>data table notebook</a>'\n",
              "            + ' to learn more about interactive tables.';\n",
              "          element.innerHTML = '';\n",
              "          dataTable['output_type'] = 'display_data';\n",
              "          await google.colab.output.renderOutput(dataTable, element);\n",
              "          const docLink = document.createElement('div');\n",
              "          docLink.innerHTML = docLinkHtml;\n",
              "          element.appendChild(docLink);\n",
              "        }\n",
              "      </script>\n",
              "    </div>\n",
              "  </div>\n",
              "  "
            ]
          },
          "metadata": {},
          "execution_count": 21
        }
      ]
    },
    {
      "cell_type": "markdown",
      "source": [
        "## Create Foodstamp Percentages"
      ],
      "metadata": {
        "id": "SigH4xulKciU"
      }
    },
    {
      "cell_type": "code",
      "source": [
        "# Convert the number columns into number data types so we can math on them\n",
        "acs_df[\"Total Households\"] = pd.to_numeric(acs_df['Total Households'])\n",
        "acs_df[\"Recieved Foodstamps\"] = pd.to_numeric(acs_df['Recieved Foodstamps'])\n",
        "acs_df['No Foodstamps'] = pd.to_numeric(acs_df['No Foodstamps'])\n",
        "acs_df['Less than 10k'] = pd.to_numeric(acs_df['Less than 10k'])\n",
        "acs_df['More than 200k'] = pd.to_numeric(acs_df['More than 200k'])\n",
        "\n",
        "\n",
        "# Compute some new columns based on the existing columns for later visualization\n",
        "acs_df['% of households foodstamps'] = (100*acs_df['Recieved Foodstamps'])/acs_df['Total Households']\n",
        "acs_df['% of households no foodstamps'] = (100*acs_df['No Foodstamps'])/acs_df['Total Households']\n",
        "acs_df['% Less than 10k'] = (100*acs_df['Less than 10k'])/acs_df['Total Households']\n",
        "acs_df['% More than 200k'] = (100*acs_df['More than 200k'])/acs_df['Total Households']\n",
        "\n",
        "# now let's look at the data again\n",
        "acs_df.head()"
      ],
      "metadata": {
        "colab": {
          "base_uri": "https://localhost:8080/",
          "height": 267
        },
        "id": "9rGLRBuR5q63",
        "outputId": "81be54fb-5881-41d4-9359-842339ed6cfd"
      },
      "execution_count": null,
      "outputs": [
        {
          "output_type": "execute_result",
          "data": {
            "text/plain": [
              "   Total Households  Recieved Foodstamps  No Foodstamps  Less than 10k  \\\n",
              "0            289474                29587         259887          14153   \n",
              "1            299804                39629         260175          23793   \n",
              "2            278057                68311         209746          27728   \n",
              "3            306685                33726         272959          19036   \n",
              "4            285554                28441         257113          26481   \n",
              "\n",
              "   More than 200k  district number        State  % of households foodstamps  \\\n",
              "0           19390               10     Michigan                   10.220952   \n",
              "1           10899                4  Mississippi                   13.218303   \n",
              "2           19574               14     Michigan                   24.567265   \n",
              "3           12208                1     Michigan                   10.996951   \n",
              "4           12412                3  Mississippi                    9.959938   \n",
              "\n",
              "   % of households no foodstamps  % Less than 10k  % More than 200k  \n",
              "0                      89.779048         4.889213          6.698356  \n",
              "1                      86.781697         7.936185          3.635375  \n",
              "2                      75.432735         9.972056          7.039564  \n",
              "3                      89.003049         6.207020          3.980632  \n",
              "4                      90.040062         9.273552          4.346638  "
            ],
            "text/html": [
              "\n",
              "  <div id=\"df-6f68e113-1782-4153-ac1c-036f91adc4bd\">\n",
              "    <div class=\"colab-df-container\">\n",
              "      <div>\n",
              "<style scoped>\n",
              "    .dataframe tbody tr th:only-of-type {\n",
              "        vertical-align: middle;\n",
              "    }\n",
              "\n",
              "    .dataframe tbody tr th {\n",
              "        vertical-align: top;\n",
              "    }\n",
              "\n",
              "    .dataframe thead th {\n",
              "        text-align: right;\n",
              "    }\n",
              "</style>\n",
              "<table border=\"1\" class=\"dataframe\">\n",
              "  <thead>\n",
              "    <tr style=\"text-align: right;\">\n",
              "      <th></th>\n",
              "      <th>Total Households</th>\n",
              "      <th>Recieved Foodstamps</th>\n",
              "      <th>No Foodstamps</th>\n",
              "      <th>Less than 10k</th>\n",
              "      <th>More than 200k</th>\n",
              "      <th>district number</th>\n",
              "      <th>State</th>\n",
              "      <th>% of households foodstamps</th>\n",
              "      <th>% of households no foodstamps</th>\n",
              "      <th>% Less than 10k</th>\n",
              "      <th>% More than 200k</th>\n",
              "    </tr>\n",
              "  </thead>\n",
              "  <tbody>\n",
              "    <tr>\n",
              "      <th>0</th>\n",
              "      <td>289474</td>\n",
              "      <td>29587</td>\n",
              "      <td>259887</td>\n",
              "      <td>14153</td>\n",
              "      <td>19390</td>\n",
              "      <td>10</td>\n",
              "      <td>Michigan</td>\n",
              "      <td>10.220952</td>\n",
              "      <td>89.779048</td>\n",
              "      <td>4.889213</td>\n",
              "      <td>6.698356</td>\n",
              "    </tr>\n",
              "    <tr>\n",
              "      <th>1</th>\n",
              "      <td>299804</td>\n",
              "      <td>39629</td>\n",
              "      <td>260175</td>\n",
              "      <td>23793</td>\n",
              "      <td>10899</td>\n",
              "      <td>4</td>\n",
              "      <td>Mississippi</td>\n",
              "      <td>13.218303</td>\n",
              "      <td>86.781697</td>\n",
              "      <td>7.936185</td>\n",
              "      <td>3.635375</td>\n",
              "    </tr>\n",
              "    <tr>\n",
              "      <th>2</th>\n",
              "      <td>278057</td>\n",
              "      <td>68311</td>\n",
              "      <td>209746</td>\n",
              "      <td>27728</td>\n",
              "      <td>19574</td>\n",
              "      <td>14</td>\n",
              "      <td>Michigan</td>\n",
              "      <td>24.567265</td>\n",
              "      <td>75.432735</td>\n",
              "      <td>9.972056</td>\n",
              "      <td>7.039564</td>\n",
              "    </tr>\n",
              "    <tr>\n",
              "      <th>3</th>\n",
              "      <td>306685</td>\n",
              "      <td>33726</td>\n",
              "      <td>272959</td>\n",
              "      <td>19036</td>\n",
              "      <td>12208</td>\n",
              "      <td>1</td>\n",
              "      <td>Michigan</td>\n",
              "      <td>10.996951</td>\n",
              "      <td>89.003049</td>\n",
              "      <td>6.207020</td>\n",
              "      <td>3.980632</td>\n",
              "    </tr>\n",
              "    <tr>\n",
              "      <th>4</th>\n",
              "      <td>285554</td>\n",
              "      <td>28441</td>\n",
              "      <td>257113</td>\n",
              "      <td>26481</td>\n",
              "      <td>12412</td>\n",
              "      <td>3</td>\n",
              "      <td>Mississippi</td>\n",
              "      <td>9.959938</td>\n",
              "      <td>90.040062</td>\n",
              "      <td>9.273552</td>\n",
              "      <td>4.346638</td>\n",
              "    </tr>\n",
              "  </tbody>\n",
              "</table>\n",
              "</div>\n",
              "      <button class=\"colab-df-convert\" onclick=\"convertToInteractive('df-6f68e113-1782-4153-ac1c-036f91adc4bd')\"\n",
              "              title=\"Convert this dataframe to an interactive table.\"\n",
              "              style=\"display:none;\">\n",
              "        \n",
              "  <svg xmlns=\"http://www.w3.org/2000/svg\" height=\"24px\"viewBox=\"0 0 24 24\"\n",
              "       width=\"24px\">\n",
              "    <path d=\"M0 0h24v24H0V0z\" fill=\"none\"/>\n",
              "    <path d=\"M18.56 5.44l.94 2.06.94-2.06 2.06-.94-2.06-.94-.94-2.06-.94 2.06-2.06.94zm-11 1L8.5 8.5l.94-2.06 2.06-.94-2.06-.94L8.5 2.5l-.94 2.06-2.06.94zm10 10l.94 2.06.94-2.06 2.06-.94-2.06-.94-.94-2.06-.94 2.06-2.06.94z\"/><path d=\"M17.41 7.96l-1.37-1.37c-.4-.4-.92-.59-1.43-.59-.52 0-1.04.2-1.43.59L10.3 9.45l-7.72 7.72c-.78.78-.78 2.05 0 2.83L4 21.41c.39.39.9.59 1.41.59.51 0 1.02-.2 1.41-.59l7.78-7.78 2.81-2.81c.8-.78.8-2.07 0-2.86zM5.41 20L4 18.59l7.72-7.72 1.47 1.35L5.41 20z\"/>\n",
              "  </svg>\n",
              "      </button>\n",
              "      \n",
              "  <style>\n",
              "    .colab-df-container {\n",
              "      display:flex;\n",
              "      flex-wrap:wrap;\n",
              "      gap: 12px;\n",
              "    }\n",
              "\n",
              "    .colab-df-convert {\n",
              "      background-color: #E8F0FE;\n",
              "      border: none;\n",
              "      border-radius: 50%;\n",
              "      cursor: pointer;\n",
              "      display: none;\n",
              "      fill: #1967D2;\n",
              "      height: 32px;\n",
              "      padding: 0 0 0 0;\n",
              "      width: 32px;\n",
              "    }\n",
              "\n",
              "    .colab-df-convert:hover {\n",
              "      background-color: #E2EBFA;\n",
              "      box-shadow: 0px 1px 2px rgba(60, 64, 67, 0.3), 0px 1px 3px 1px rgba(60, 64, 67, 0.15);\n",
              "      fill: #174EA6;\n",
              "    }\n",
              "\n",
              "    [theme=dark] .colab-df-convert {\n",
              "      background-color: #3B4455;\n",
              "      fill: #D2E3FC;\n",
              "    }\n",
              "\n",
              "    [theme=dark] .colab-df-convert:hover {\n",
              "      background-color: #434B5C;\n",
              "      box-shadow: 0px 1px 3px 1px rgba(0, 0, 0, 0.15);\n",
              "      filter: drop-shadow(0px 1px 2px rgba(0, 0, 0, 0.3));\n",
              "      fill: #FFFFFF;\n",
              "    }\n",
              "  </style>\n",
              "\n",
              "      <script>\n",
              "        const buttonEl =\n",
              "          document.querySelector('#df-6f68e113-1782-4153-ac1c-036f91adc4bd button.colab-df-convert');\n",
              "        buttonEl.style.display =\n",
              "          google.colab.kernel.accessAllowed ? 'block' : 'none';\n",
              "\n",
              "        async function convertToInteractive(key) {\n",
              "          const element = document.querySelector('#df-6f68e113-1782-4153-ac1c-036f91adc4bd');\n",
              "          const dataTable =\n",
              "            await google.colab.kernel.invokeFunction('convertToInteractive',\n",
              "                                                     [key], {});\n",
              "          if (!dataTable) return;\n",
              "\n",
              "          const docLinkHtml = 'Like what you see? Visit the ' +\n",
              "            '<a target=\"_blank\" href=https://colab.research.google.com/notebooks/data_table.ipynb>data table notebook</a>'\n",
              "            + ' to learn more about interactive tables.';\n",
              "          element.innerHTML = '';\n",
              "          dataTable['output_type'] = 'display_data';\n",
              "          await google.colab.output.renderOutput(dataTable, element);\n",
              "          const docLink = document.createElement('div');\n",
              "          docLink.innerHTML = docLinkHtml;\n",
              "          element.appendChild(docLink);\n",
              "        }\n",
              "      </script>\n",
              "    </div>\n",
              "  </div>\n",
              "  "
            ]
          },
          "metadata": {},
          "execution_count": 22
        }
      ]
    },
    {
      "cell_type": "markdown",
      "source": [
        "## Merge Dataframes"
      ],
      "metadata": {
        "id": "snAzdNIVKko7"
      }
    },
    {
      "cell_type": "code",
      "source": [
        "# Merge is like a sql natural join. We are joining on the State and District numbers being the same between the two sets.\n",
        "merged_df = pd.merge(acs_df, party_df, on=[\"State\", \"district number\"])\n",
        "\n",
        "merged_df=merged_df[merged_df['Party']!= \"L\"]\n",
        "\n",
        "merged_df.describe()\n",
        "\n"
      ],
      "metadata": {
        "colab": {
          "base_uri": "https://localhost:8080/",
          "height": 361
        },
        "id": "LSvKWnwO6w1o",
        "outputId": "c59baf74-e5ae-4d9c-a0fa-cffe8ab8a1ea"
      },
      "execution_count": null,
      "outputs": [
        {
          "output_type": "execute_result",
          "data": {
            "text/plain": [
              "       Total Households  Recieved Foodstamps  No Foodstamps  Less than 10k  \\\n",
              "count        434.000000           434.000000     434.000000     434.000000   \n",
              "mean      292477.410138         36322.486175  256154.923963   17612.700461   \n",
              "std        33709.431023         15221.763056   37484.702130    6053.283209   \n",
              "min       183319.000000          9227.000000  140888.000000    6021.000000   \n",
              "25%       273664.500000         26289.250000  235388.000000   13415.500000   \n",
              "50%       292530.000000         34679.000000  257910.500000   16626.500000   \n",
              "75%       312015.750000         43307.250000  278593.000000   21017.750000   \n",
              "max       448949.000000        125624.000000  410144.000000   44929.000000   \n",
              "\n",
              "       More than 200k  district number  % of households foodstamps  \\\n",
              "count      434.000000       434.000000                  434.000000   \n",
              "mean     28538.569124        10.175115                   12.611127   \n",
              "std      18921.413644        10.663517                    5.631805   \n",
              "min       5296.000000         0.000000                    2.805607   \n",
              "25%      14842.500000         3.000000                    8.666167   \n",
              "50%      22554.500000         6.000000                   11.700921   \n",
              "75%      37015.750000        13.000000                   15.535949   \n",
              "max     111988.000000        53.000000                   47.136339   \n",
              "\n",
              "       % of households no foodstamps  % Less than 10k  % More than 200k  \n",
              "count                     434.000000       434.000000        434.000000  \n",
              "mean                       87.388873         6.052506          9.726725  \n",
              "std                         5.631805         2.107973          6.424471  \n",
              "min                        52.863661         2.208934          2.025905  \n",
              "25%                        84.464051         4.644085          5.178620  \n",
              "50%                        88.299079         5.683421          7.634268  \n",
              "75%                        91.333833         7.039841         12.691753  \n",
              "max                        97.194393        16.858153         41.846370  "
            ],
            "text/html": [
              "\n",
              "  <div id=\"df-2300ae12-022d-470c-8365-8719f0f4551e\">\n",
              "    <div class=\"colab-df-container\">\n",
              "      <div>\n",
              "<style scoped>\n",
              "    .dataframe tbody tr th:only-of-type {\n",
              "        vertical-align: middle;\n",
              "    }\n",
              "\n",
              "    .dataframe tbody tr th {\n",
              "        vertical-align: top;\n",
              "    }\n",
              "\n",
              "    .dataframe thead th {\n",
              "        text-align: right;\n",
              "    }\n",
              "</style>\n",
              "<table border=\"1\" class=\"dataframe\">\n",
              "  <thead>\n",
              "    <tr style=\"text-align: right;\">\n",
              "      <th></th>\n",
              "      <th>Total Households</th>\n",
              "      <th>Recieved Foodstamps</th>\n",
              "      <th>No Foodstamps</th>\n",
              "      <th>Less than 10k</th>\n",
              "      <th>More than 200k</th>\n",
              "      <th>district number</th>\n",
              "      <th>% of households foodstamps</th>\n",
              "      <th>% of households no foodstamps</th>\n",
              "      <th>% Less than 10k</th>\n",
              "      <th>% More than 200k</th>\n",
              "    </tr>\n",
              "  </thead>\n",
              "  <tbody>\n",
              "    <tr>\n",
              "      <th>count</th>\n",
              "      <td>434.000000</td>\n",
              "      <td>434.000000</td>\n",
              "      <td>434.000000</td>\n",
              "      <td>434.000000</td>\n",
              "      <td>434.000000</td>\n",
              "      <td>434.000000</td>\n",
              "      <td>434.000000</td>\n",
              "      <td>434.000000</td>\n",
              "      <td>434.000000</td>\n",
              "      <td>434.000000</td>\n",
              "    </tr>\n",
              "    <tr>\n",
              "      <th>mean</th>\n",
              "      <td>292477.410138</td>\n",
              "      <td>36322.486175</td>\n",
              "      <td>256154.923963</td>\n",
              "      <td>17612.700461</td>\n",
              "      <td>28538.569124</td>\n",
              "      <td>10.175115</td>\n",
              "      <td>12.611127</td>\n",
              "      <td>87.388873</td>\n",
              "      <td>6.052506</td>\n",
              "      <td>9.726725</td>\n",
              "    </tr>\n",
              "    <tr>\n",
              "      <th>std</th>\n",
              "      <td>33709.431023</td>\n",
              "      <td>15221.763056</td>\n",
              "      <td>37484.702130</td>\n",
              "      <td>6053.283209</td>\n",
              "      <td>18921.413644</td>\n",
              "      <td>10.663517</td>\n",
              "      <td>5.631805</td>\n",
              "      <td>5.631805</td>\n",
              "      <td>2.107973</td>\n",
              "      <td>6.424471</td>\n",
              "    </tr>\n",
              "    <tr>\n",
              "      <th>min</th>\n",
              "      <td>183319.000000</td>\n",
              "      <td>9227.000000</td>\n",
              "      <td>140888.000000</td>\n",
              "      <td>6021.000000</td>\n",
              "      <td>5296.000000</td>\n",
              "      <td>0.000000</td>\n",
              "      <td>2.805607</td>\n",
              "      <td>52.863661</td>\n",
              "      <td>2.208934</td>\n",
              "      <td>2.025905</td>\n",
              "    </tr>\n",
              "    <tr>\n",
              "      <th>25%</th>\n",
              "      <td>273664.500000</td>\n",
              "      <td>26289.250000</td>\n",
              "      <td>235388.000000</td>\n",
              "      <td>13415.500000</td>\n",
              "      <td>14842.500000</td>\n",
              "      <td>3.000000</td>\n",
              "      <td>8.666167</td>\n",
              "      <td>84.464051</td>\n",
              "      <td>4.644085</td>\n",
              "      <td>5.178620</td>\n",
              "    </tr>\n",
              "    <tr>\n",
              "      <th>50%</th>\n",
              "      <td>292530.000000</td>\n",
              "      <td>34679.000000</td>\n",
              "      <td>257910.500000</td>\n",
              "      <td>16626.500000</td>\n",
              "      <td>22554.500000</td>\n",
              "      <td>6.000000</td>\n",
              "      <td>11.700921</td>\n",
              "      <td>88.299079</td>\n",
              "      <td>5.683421</td>\n",
              "      <td>7.634268</td>\n",
              "    </tr>\n",
              "    <tr>\n",
              "      <th>75%</th>\n",
              "      <td>312015.750000</td>\n",
              "      <td>43307.250000</td>\n",
              "      <td>278593.000000</td>\n",
              "      <td>21017.750000</td>\n",
              "      <td>37015.750000</td>\n",
              "      <td>13.000000</td>\n",
              "      <td>15.535949</td>\n",
              "      <td>91.333833</td>\n",
              "      <td>7.039841</td>\n",
              "      <td>12.691753</td>\n",
              "    </tr>\n",
              "    <tr>\n",
              "      <th>max</th>\n",
              "      <td>448949.000000</td>\n",
              "      <td>125624.000000</td>\n",
              "      <td>410144.000000</td>\n",
              "      <td>44929.000000</td>\n",
              "      <td>111988.000000</td>\n",
              "      <td>53.000000</td>\n",
              "      <td>47.136339</td>\n",
              "      <td>97.194393</td>\n",
              "      <td>16.858153</td>\n",
              "      <td>41.846370</td>\n",
              "    </tr>\n",
              "  </tbody>\n",
              "</table>\n",
              "</div>\n",
              "      <button class=\"colab-df-convert\" onclick=\"convertToInteractive('df-2300ae12-022d-470c-8365-8719f0f4551e')\"\n",
              "              title=\"Convert this dataframe to an interactive table.\"\n",
              "              style=\"display:none;\">\n",
              "        \n",
              "  <svg xmlns=\"http://www.w3.org/2000/svg\" height=\"24px\"viewBox=\"0 0 24 24\"\n",
              "       width=\"24px\">\n",
              "    <path d=\"M0 0h24v24H0V0z\" fill=\"none\"/>\n",
              "    <path d=\"M18.56 5.44l.94 2.06.94-2.06 2.06-.94-2.06-.94-.94-2.06-.94 2.06-2.06.94zm-11 1L8.5 8.5l.94-2.06 2.06-.94-2.06-.94L8.5 2.5l-.94 2.06-2.06.94zm10 10l.94 2.06.94-2.06 2.06-.94-2.06-.94-.94-2.06-.94 2.06-2.06.94z\"/><path d=\"M17.41 7.96l-1.37-1.37c-.4-.4-.92-.59-1.43-.59-.52 0-1.04.2-1.43.59L10.3 9.45l-7.72 7.72c-.78.78-.78 2.05 0 2.83L4 21.41c.39.39.9.59 1.41.59.51 0 1.02-.2 1.41-.59l7.78-7.78 2.81-2.81c.8-.78.8-2.07 0-2.86zM5.41 20L4 18.59l7.72-7.72 1.47 1.35L5.41 20z\"/>\n",
              "  </svg>\n",
              "      </button>\n",
              "      \n",
              "  <style>\n",
              "    .colab-df-container {\n",
              "      display:flex;\n",
              "      flex-wrap:wrap;\n",
              "      gap: 12px;\n",
              "    }\n",
              "\n",
              "    .colab-df-convert {\n",
              "      background-color: #E8F0FE;\n",
              "      border: none;\n",
              "      border-radius: 50%;\n",
              "      cursor: pointer;\n",
              "      display: none;\n",
              "      fill: #1967D2;\n",
              "      height: 32px;\n",
              "      padding: 0 0 0 0;\n",
              "      width: 32px;\n",
              "    }\n",
              "\n",
              "    .colab-df-convert:hover {\n",
              "      background-color: #E2EBFA;\n",
              "      box-shadow: 0px 1px 2px rgba(60, 64, 67, 0.3), 0px 1px 3px 1px rgba(60, 64, 67, 0.15);\n",
              "      fill: #174EA6;\n",
              "    }\n",
              "\n",
              "    [theme=dark] .colab-df-convert {\n",
              "      background-color: #3B4455;\n",
              "      fill: #D2E3FC;\n",
              "    }\n",
              "\n",
              "    [theme=dark] .colab-df-convert:hover {\n",
              "      background-color: #434B5C;\n",
              "      box-shadow: 0px 1px 3px 1px rgba(0, 0, 0, 0.15);\n",
              "      filter: drop-shadow(0px 1px 2px rgba(0, 0, 0, 0.3));\n",
              "      fill: #FFFFFF;\n",
              "    }\n",
              "  </style>\n",
              "\n",
              "      <script>\n",
              "        const buttonEl =\n",
              "          document.querySelector('#df-2300ae12-022d-470c-8365-8719f0f4551e button.colab-df-convert');\n",
              "        buttonEl.style.display =\n",
              "          google.colab.kernel.accessAllowed ? 'block' : 'none';\n",
              "\n",
              "        async function convertToInteractive(key) {\n",
              "          const element = document.querySelector('#df-2300ae12-022d-470c-8365-8719f0f4551e');\n",
              "          const dataTable =\n",
              "            await google.colab.kernel.invokeFunction('convertToInteractive',\n",
              "                                                     [key], {});\n",
              "          if (!dataTable) return;\n",
              "\n",
              "          const docLinkHtml = 'Like what you see? Visit the ' +\n",
              "            '<a target=\"_blank\" href=https://colab.research.google.com/notebooks/data_table.ipynb>data table notebook</a>'\n",
              "            + ' to learn more about interactive tables.';\n",
              "          element.innerHTML = '';\n",
              "          dataTable['output_type'] = 'display_data';\n",
              "          await google.colab.output.renderOutput(dataTable, element);\n",
              "          const docLink = document.createElement('div');\n",
              "          docLink.innerHTML = docLinkHtml;\n",
              "          element.appendChild(docLink);\n",
              "        }\n",
              "      </script>\n",
              "    </div>\n",
              "  </div>\n",
              "  "
            ]
          },
          "metadata": {},
          "execution_count": 23
        }
      ]
    },
    {
      "cell_type": "code",
      "source": [
        "# let's take a look at the party breakdown \n",
        "merged_df['Party'].value_counts()"
      ],
      "metadata": {
        "colab": {
          "base_uri": "https://localhost:8080/"
        },
        "id": "10EeyKzCtstB",
        "outputId": "28066e47-e797-4368-a1fb-27457e515333"
      },
      "execution_count": null,
      "outputs": [
        {
          "output_type": "execute_result",
          "data": {
            "text/plain": [
              "D    233\n",
              "R    201\n",
              "Name: Party, dtype: int64"
            ]
          },
          "metadata": {},
          "execution_count": 24
        }
      ]
    },
    {
      "cell_type": "markdown",
      "source": [
        "There are 32 more Democratic districts than Republican which is a significant number. We must be kept in mind when looking at further distribution numbers."
      ],
      "metadata": {
        "id": "z6KwyV2-t19k"
      }
    },
    {
      "cell_type": "markdown",
      "source": [
        "## Barplot: Median % of Households Receiving Foodstamps"
      ],
      "metadata": {
        "id": "nzzMZr7wLBeg"
      }
    },
    {
      "cell_type": "code",
      "source": [
        "import seaborn as sns\n",
        "\n",
        "fig, ax = plt.subplots(figsize=(15, 12))\n",
        "\n",
        "ax = sns.boxplot(x='Party', y='% of households foodstamps', data=merged_df, ax=ax,palette=\"Set1\")\n",
        "\n",
        "median = merged_df.groupby(\"Party\")[\"% of households foodstamps\"].median()\n",
        "\n",
        "# show the graph\n",
        "\n",
        "plt.show()"
      ],
      "metadata": {
        "colab": {
          "base_uri": "https://localhost:8080/",
          "height": 714
        },
        "id": "DI9OC7FFbg6a",
        "outputId": "62de1480-848d-4cf0-89d3-e180ff5e3b9a"
      },
      "execution_count": null,
      "outputs": [
        {
          "output_type": "display_data",
          "data": {
            "text/plain": [
              "<Figure size 1080x864 with 1 Axes>"
            ],
            "image/png": "[encoded data removed]"
          },
          "metadata": {
            "needs_background": "light"
          }
        }
      ]
    },
    {
      "cell_type": "markdown",
      "source": [
        "The above box-plot showcases that Democratic districts have a wider range of percentages of households that receive food-stamps than the range of Republican districts. From the box-plot we can also see that for Democratic districts the median as well as all quartiles are above that of Republican districts. We also notice that the Republican districts have four outliers and Democratic districts have two. "
      ],
      "metadata": {
        "id": "T7qTaq5ioNRK"
      }
    },
    {
      "cell_type": "code",
      "source": [
        "median = merged_df.groupby(\"Party\")[\"% of households foodstamps\"].median()\n",
        "\n",
        "colors= {\"D\":\"blue\",\"L\":\"gold\", \"R\": \"red\"}\n",
        "\n",
        "ax=sns.barplot(x=median.index, y=median.values, palette=colors)\n",
        "\n",
        "ax.yaxis.set_visible(False)\n",
        "\n",
        "for i, value in enumerate(median.values):\n",
        "    ax.text(i, value, f'{value:.1f}%', ha=\"center\", fontsize=18)\n",
        "\n",
        "sns.despine(left=True)\n",
        "\n",
        "plt.legend()\n",
        "plt.show()"
      ],
      "metadata": {
        "id": "ZJ3wwAgZFNF8",
        "colab": {
          "base_uri": "https://localhost:8080/",
          "height": 301
        },
        "outputId": "91b37849-8fbb-40ee-9442-e66ac9f03ba9"
      },
      "execution_count": null,
      "outputs": [
        {
          "output_type": "stream",
          "name": "stderr",
          "text": [
            "WARNING:matplotlib.legend:No handles with labels found to put in legend.\n"
          ]
        },
        {
          "output_type": "display_data",
          "data": {
            "text/plain": [
              "<Figure size 432x288 with 1 Axes>"
            ],
            "image/png": "[encoded data removed]"
          },
          "metadata": {
            "needs_background": "light"
          }
        }
      ]
    },
    {
      "cell_type": "markdown",
      "source": [
        "This bar chart showcascases the difference in the medians between the two parties. "
      ],
      "metadata": {
        "id": "-rw2F_8oqzEc"
      }
    },
    {
      "cell_type": "markdown",
      "source": [
        "## Top 10 and Bottom 10 Districts"
      ],
      "metadata": {
        "id": "G_l8RbGgHrP-"
      }
    },
    {
      "cell_type": "markdown",
      "source": [
        "The ten districts with the highest percentages of household food-stamps are comprised of nine Democratic districts and one Republican district. \n",
        "\n",
        "The 15th District of New York has the highest percentages of households with food-stamps at 47.13%. The 15th District of NY is located entirely within the Bronx. More specifically the district covers the South and West portion of the Bronx in NYC. The district is considered the most diverse area in the country by the Census Bureau. \n",
        "\n",
        "The one Republican district in the top ten is district 5 of Kentucky. This district is in Southeastern Kentucky and represents much of the eastern Kentucky Coalfield. As of the 2010 US census the district had the highest percentage of White Americans. "
      ],
      "metadata": {
        "id": "L1xmLPi0IyZg"
      }
    },
    {
      "cell_type": "code",
      "source": [
        "df_descending = merged_df.sort_values(\"% of households foodstamps\", ascending=False)\n",
        "\n",
        "desc= df_descending[[\"Party\",\"% of households foodstamps\", \"State\", \"district number\"]]\n",
        "\n",
        "# bottom 10 \n",
        "print(desc.head(10))"
      ],
      "metadata": {
        "id": "S41T2ji_HQTl",
        "colab": {
          "base_uri": "https://localhost:8080/"
        },
        "outputId": "13df426d-9587-4749-c173-2f4503374771"
      },
      "execution_count": null,
      "outputs": [
        {
          "output_type": "stream",
          "name": "stdout",
          "text": [
            "    Party  % of households foodstamps         State  district number\n",
            "276     D                   47.136339      New York               15\n",
            "19      D                   31.727897      New York               13\n",
            "227     D                   31.121851      Michigan               13\n",
            "277     D                   30.736612  Pennsylvania                2\n",
            "155     D                   29.298095       Florida               24\n",
            "353     D                   26.675203     Wisconsin                4\n",
            "347     D                   26.293892         Texas               34\n",
            "411     R                   26.068994      Kentucky                5\n",
            "248     D                   26.042580          Ohio               11\n",
            "109     D                   25.837134    California               16\n"
          ]
        }
      ]
    },
    {
      "cell_type": "markdown",
      "source": [
        "The ten districts with the lowest percentage of households receiving food-stamps is comprised of two Republican districts and eight Democratic districts.\n",
        "\n",
        "The district with the smallest percentage of food-stamps in the US is Texas district 3. This district encompasses the suburbs North and Northeast of Dallas and is said to be one of the most Republican districts in Texas.\n",
        "\n",
        "The second smallest percentage of food-stamps is district 11 of New Jersey. District 11 has been represented by Republican's from 1984 but just recently changed to Democrat representation in 2019."
      ],
      "metadata": {
        "id": "1_h2joRQYqlk"
      }
    },
    {
      "cell_type": "code",
      "source": [
        "df_ascending = merged_df.sort_values(\"% of households foodstamps\")\n",
        "\n",
        "asc = df_ascending[[\"Party\",\"% of households foodstamps\", \"State\", \"district number\"]]\n",
        "\n",
        "# top 10 \n",
        "print(asc.head(10))"
      ],
      "metadata": {
        "id": "Z2jj8IrOEFBM",
        "colab": {
          "base_uri": "https://localhost:8080/"
        },
        "outputId": "fca6143a-be76-4d9a-f001-6bdb89b79f08"
      },
      "execution_count": null,
      "outputs": [
        {
          "output_type": "stream",
          "name": "stdout",
          "text": [
            "    Party  % of households foodstamps       State  district number\n",
            "315     R                    2.805607       Texas                3\n",
            "242     D                    3.232621  New Jersey               11\n",
            "403     D                    3.561407     Georgia                6\n",
            "216     R                    3.751107    Missouri                2\n",
            "112     D                    3.766951  California               18\n",
            "62      D                    3.838902    Virginia               10\n",
            "264     D                    3.918898    New York                3\n",
            "27      D                    3.952794  New Jersey                5\n",
            "28      D                    4.193566  New Jersey                7\n",
            "324     D                    4.318915    Virginia               11\n"
          ]
        }
      ]
    },
    {
      "cell_type": "markdown",
      "source": [
        "## % of Households Receiving Foodstamps Distribution (Dems)"
      ],
      "metadata": {
        "id": "3bDJ07I2LIc1"
      }
    },
    {
      "cell_type": "code",
      "source": [
        "df_dem = merged_df[merged_df['Party']== \"D\"]\n",
        "\n",
        "sns.histplot(df_dem[\"% of households foodstamps\"], bins = 20, color=\"blue\")\n",
        "\n",
        "plt.xlim(0, 50)\n",
        "\n",
        "plt.ylim(0,40)\n",
        "\n",
        "sns.despine()"
      ],
      "metadata": {
        "id": "LPd0udCKMFVE",
        "colab": {
          "base_uri": "https://localhost:8080/",
          "height": 283
        },
        "outputId": "6b000762-aaed-4753-b7e7-ac121421d829"
      },
      "execution_count": null,
      "outputs": [
        {
          "output_type": "display_data",
          "data": {
            "text/plain": [
              "<Figure size 432x288 with 1 Axes>"
            ],
            "image/png": "[encoded data removed]"
          },
          "metadata": {
            "needs_background": "light"
          }
        }
      ]
    },
    {
      "cell_type": "markdown",
      "source": [
        "The histogram above shows how Democratic districts have a skewed right distribution. "
      ],
      "metadata": {
        "id": "8Tlia4ZjrhdG"
      }
    },
    {
      "cell_type": "markdown",
      "source": [
        "## % of Households Receiving Foodstamps Distribution (Reps)"
      ],
      "metadata": {
        "id": "aZSWdKlCLkdC"
      }
    },
    {
      "cell_type": "code",
      "source": [
        "df_rep = merged_df[merged_df['Party']== \"R\"]\n",
        "\n",
        "sns.histplot(df_rep[\"% of households foodstamps\"],bins = 20, color=\"red\")\n",
        "\n",
        "plt.xlim(0, 50)\n",
        "\n",
        "plt.ylim(0,40)\n",
        "\n",
        "sns.despine()"
      ],
      "metadata": {
        "id": "yXFBF0BFOlmr",
        "colab": {
          "base_uri": "https://localhost:8080/",
          "height": 283
        },
        "outputId": "246118cc-cd6f-40ef-9b6e-ea1393dae3f0"
      },
      "execution_count": null,
      "outputs": [
        {
          "output_type": "display_data",
          "data": {
            "text/plain": [
              "<Figure size 432x288 with 1 Axes>"
            ],
            "image/png": "[encoded data removed]"
          },
          "metadata": {
            "needs_background": "light"
          }
        }
      ]
    },
    {
      "cell_type": "markdown",
      "source": [
        "The histrogram for Republican districs shows a relatively normal distriution. When compared to Democratic graph, this is far more concentrated around a center. While the centers for both graphs look relatively similar, there is a much higher count of Democratic districts who have more than 20% of households recieving foodstamps. "
      ],
      "metadata": {
        "id": "tox4l9sQsDXY"
      }
    },
    {
      "cell_type": "markdown",
      "source": [
        "## Relationship Between Food-Stamps and Median Household Income"
      ],
      "metadata": {
        "id": "L_wAgKq8wzas"
      }
    },
    {
      "cell_type": "code",
      "source": [
        "import numpy as np\n",
        "from sklearn.linear_model import LinearRegression\n",
        "\n",
        "R = merged_df[merged_df['Party'].str.contains('R')]\n",
        "D = merged_df[merged_df['Party'].str.contains('D')]\n",
        "\n",
        "fig, ax = plt.subplots(figsize=(15, 12))\n",
        "R.plot.scatter(y='% of households foodstamps', x='% Less than 10k', c='red',label='Republican', ax=ax)\n",
        "D.plot.scatter(y='% of households foodstamps', x='% Less than 10k',c='blue',label='Democrat', ax=ax)\n",
        "\n",
        "x_R = np.array(R[\"% Less than 10k\"]).reshape(-1, 1)\n",
        "y_R = np.array(R[\"% of households foodstamps\"])\n",
        "\n",
        "model_R = LinearRegression().fit(x_R, y_R)\n",
        "\n",
        "x_D = np.array(D[\"% Less than 10k\"]).reshape(-1, 1)\n",
        "y_D = np.array(D[\"% of households foodstamps\"])\n",
        "\n",
        "model_D = LinearRegression().fit(x_D, y_D)\n",
        "\n",
        "ax.plot(x_R, model_R.predict(x_R), color='red', linewidth=2, label='Line of Best Fit for Republicans')\n",
        "ax.plot(x_D, model_D.predict(x_D), color='blue', linewidth=2, label='Line of Best Fit for Democrats')\n",
        "\n",
        "plt.show()"
      ],
      "metadata": {
        "id": "srsJlOsew_GF",
        "colab": {
          "base_uri": "https://localhost:8080/",
          "height": 714
        },
        "outputId": "6369c1aa-93ea-4930-90b7-da8b58d04fe1"
      },
      "execution_count": null,
      "outputs": [
        {
          "output_type": "display_data",
          "data": {
            "text/plain": [
              "<Figure size 1080x864 with 1 Axes>"
            ],
            "image/png": "[encoded data removed]"
          },
          "metadata": {
            "needs_background": "light"
          }
        }
      ]
    },
    {
      "cell_type": "code",
      "source": [
        "import numpy as np\n",
        "\n",
        "def calculate_correlation(x, y):\n",
        "    correlation = np.corrcoef(x, y)[0, 1]\n",
        "    return correlation\n",
        "\n",
        "calculate_correlation(merged_df['% Less than 10k'],merged_df['% of households foodstamps'])"
      ],
      "metadata": {
        "id": "qGAVXmPmF4Qg",
        "colab": {
          "base_uri": "https://localhost:8080/"
        },
        "outputId": "fc58a445-c51b-4cc6-be4c-7b24cbf189df"
      },
      "execution_count": null,
      "outputs": [
        {
          "output_type": "execute_result",
          "data": {
            "text/plain": [
              "0.8087372110933162"
            ]
          },
          "metadata": {},
          "execution_count": 32
        }
      ]
    },
    {
      "cell_type": "markdown",
      "source": [
        "The above graph shows the relationship between households receiving food-stamps and households with less than 10,000 in total income. Given that income is a part of the criteria for receiving food-stamps the relationship is strong. From the graph we can see that when percentage of households with less than 10k income increases, the percentage of households receiving food-stamps increases at a quicker rate in Democratic districts versus Republican districts. \n",
        "\n",
        "Overall, there is a strong positive correlation between percent of households with less than ten thousand dollars and percentage of households receiving food-stamps. The correlation coefficient is 0.8087.\n"
      ],
      "metadata": {
        "id": "20Q5xew_JDFM"
      }
    },
    {
      "cell_type": "code",
      "source": [
        "R = merged_df[merged_df['Party'].str.contains('R')]\n",
        "D = merged_df[merged_df['Party'].str.contains('D')]\n",
        "\n",
        "fig, ax = plt.subplots(figsize=(15, 12))\n",
        "R.plot.scatter(y='% of households foodstamps', x='% More than 200k', c='red',label='Republican', ax=ax)\n",
        "D.plot.scatter(y='% of households foodstamps', x='% More than 200k',c='blue',label='Democrat', ax=ax)\n",
        "\n",
        "x_R = np.array(R[\"% More than 200k\"]).reshape(-1, 1)\n",
        "y_R = np.array(R[\"% of households foodstamps\"])\n",
        "\n",
        "model_R = LinearRegression().fit(x_R, y_R)\n",
        "\n",
        "x_D = np.array(D[\"% More than 200k\"]).reshape(-1, 1)\n",
        "y_D = np.array(D[\"% of households foodstamps\"])\n",
        "\n",
        "model_D = LinearRegression().fit(x_D, y_D)\n",
        "\n",
        "ax.plot(x_R, model_R.predict(x_R), color='red', linewidth=2, label='Line of Best Fit for Republicans')\n",
        "ax.plot(x_D, model_D.predict(x_D), color='blue', linewidth=2, label='Line of Best Fit for Democrats')\n",
        "\n",
        "plt.show()"
      ],
      "metadata": {
        "id": "vYXgS-kJ54Re",
        "colab": {
          "base_uri": "https://localhost:8080/",
          "height": 714
        },
        "outputId": "41c4c4f2-4d2e-4c7e-cc20-7492b76da4c6"
      },
      "execution_count": null,
      "outputs": [
        {
          "output_type": "display_data",
          "data": {
            "text/plain": [
              "<Figure size 1080x864 with 1 Axes>"
            ],
            "image/png": "[encoded data removed]"
          },
          "metadata": {
            "needs_background": "light"
          }
        }
      ]
    },
    {
      "cell_type": "code",
      "source": [
        "def calculate_correlation(x, y):\n",
        "    correlation = np.corrcoef(x, y)[0, 1]\n",
        "    return correlation\n",
        "\n",
        "calculate_correlation(merged_df['% More than 200k'],merged_df['% of households foodstamps'])"
      ],
      "metadata": {
        "colab": {
          "base_uri": "https://localhost:8080/"
        },
        "id": "1zaX5cRsIsMG",
        "outputId": "fc426207-f88d-436b-f630-81f04f65e0af"
      },
      "execution_count": null,
      "outputs": [
        {
          "output_type": "execute_result",
          "data": {
            "text/plain": [
              "-0.5002489653901119"
            ]
          },
          "metadata": {},
          "execution_count": 34
        }
      ]
    },
    {
      "cell_type": "markdown",
      "source": [
        "The graph above shows the relationship between households with more than 200,000 of income and households receiving food-stamps. This graph is similar to the prior one but shows the negative relationship between food-stamps and higher income. This graph clearly shows that for ALL percentages of households with more than 200k Democratic districts have a higher percent of households receiving food-stamps compared to Republican districts. \n",
        "\n",
        "Overall, the correlation between percentage of households with more than 200k of income and percentage of households receiving food-stamps is moderately strong negative with the correlation coefficient of -0.50025.\n"
      ],
      "metadata": {
        "id": "GtqBAdL4NsrC"
      }
    },
    {
      "cell_type": "markdown",
      "source": [
        "## Results of Analysis "
      ],
      "metadata": {
        "id": "KRlEI6zMPbtz"
      }
    },
    {
      "cell_type": "markdown",
      "source": [
        "Given the results above and the analysis we just discussed, we can conclude that overall there is support for our hypothesis that Democratic districts have a higher percentage of people receiving foodstamps. The evidence that supports this is the median across all districts, the skewed right distribution of Democratic districts recieving foodstamps, and the higher percentage of households receiving foodstamps across various levels of household income.  However, Democratic districts veer towards the extremes on both sides and Republican districts have a more normal distribution."
      ],
      "metadata": {
        "id": "snG-eDhIPhCy"
      }
    }
  ]
}