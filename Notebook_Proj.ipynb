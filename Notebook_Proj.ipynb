{
  "nbformat": 4,
  "nbformat_minor": 0,
  "metadata": {
    "colab": {
      "provenance": [],
      "include_colab_link": true
    },
    "kernelspec": {
      "name": "python3",
      "display_name": "Python 3"
    },
    "language_info": {
      "name": "python"
    }
  },
  "cells": [
    {
      "cell_type": "markdown",
      "metadata": {
        "id": "view-in-github",
        "colab_type": "text"
      },
      "source": [
        "<a href=\"https://colab.research.google.com/github/mkalmano/congressional-analysis/blob/main/Notebook_Proj.ipynb\" target=\"_parent\"><img src=\"https://colab.research.google.com/assets/colab-badge.svg\" alt=\"Open In Colab\"/></a>"
      ]
    },
    {
      "cell_type": "markdown",
      "source": [
        "# **Foodstamps in Democrat vs Republican Districts**"
      ],
      "metadata": {
        "id": "rktmt87n1YoS"
      }
    },
    {
      "cell_type": "code",
      "execution_count": null,
      "metadata": {
        "id": "my4IotS2mzq5"
      },
      "outputs": [],
      "source": [
        "# first some initial setup of libraries we will be using\n",
        "import pandas as pd # this is the main library used in python for manipulating data. \n",
        "import json # this is a library to parse json (javascript object notation)\n",
        "from urllib.request import urlopen # library to read data from a URL\n",
        "import matplotlib.pyplot as plt # visualization library we will use that integrates with pandas"
      ]
    },
    {
      "cell_type": "markdown",
      "source": [
        "## Reasoning and Hypothesis\n",
        "\n",
        "Many people living in the United States are impacted by low wages and need nutritional support and government assistance. We were curious about this data because historically it is perceived that many Democratic cities have high homelessness rates and common Republican argument is that Democrats want \"handouts\". We wanted to see if the data backs up this theory. We chose to look at foodstamps as the criteria defining need of governmemt support. \n",
        "\n",
        "**Hypothesis:** The districts with individuals who recieve the most amount of foodstamps are mostly Democrat. "
      ],
      "metadata": {
        "id": "p3WeLqhj1aED"
      }
    },
    {
      "cell_type": "markdown",
      "source": [
        "## Read in Census Data"
      ],
      "metadata": {
        "id": "saubwGsTKCB-"
      }
    },
    {
      "cell_type": "code",
      "source": [
        "# We are reading in the data we want from ACS 2021. The API returns json data. Try copy and pasting the link yourself in a browser to see what the raw data looks like.\n",
        "url=\"https://api.census.gov/data/2021/acs/acs1?get=NAME,B22010_001E,B22010_002E,B22010_005E&for=congressional%20district:*&in=state:*\"\n",
        "\n",
        "# store the response of URL\n",
        "response = urlopen(url)\n",
        "\n",
        "# storing the JSON response from url in data\n",
        "data_json = json.loads(response.read())\n",
        "data_json.pop(0) # the first row of data is header information which we don't need, so pop removes that from the dataset.\n",
        "\n",
        "# Hand populate the columns based on the variable descriptions census.gov documents here: https://api.census.gov/data/2021/acs/acs1/variables.html. Note they correspond back to the variable names I included in the URL above.\n",
        "cols = ['District Name','Total Households','Recieved Foodstamps', 'No Foodstamps', 'State code', 'district number']\n",
        "\n",
        "acs_df = pd.DataFrame(data_json, columns = cols)\n",
        "\n",
        "# time to do some basic cleanup of the data. We will need to extract the district number and state in a regular format so we can later join with the party data.\n",
        "acs_df[['District', 'State']] = acs_df['District Name'].str.split(',', expand=True)\n",
        "acs_df['district number'] = pd.to_numeric(acs_df['district number'])\n",
        "\n",
        "acs_df['State'] = acs_df['State'].str.strip()\n",
        "\n",
        "# Let's just keep the columns we need\n",
        "acs_df = acs_df[['Total Households', 'Recieved Foodstamps', \"No Foodstamps\", 'district number', 'State']]\n",
        "\n",
        "# take a look at the top results in the dataset\n",
        "acs_df.head()"
      ],
      "metadata": {
        "id": "5oTRPxLax32E",
        "colab": {
          "base_uri": "https://localhost:8080/",
          "height": 206
        },
        "outputId": "9e916827-213b-475f-84d9-f217294e1107"
      },
      "execution_count": null,
      "outputs": [
        {
          "output_type": "execute_result",
          "data": {
            "text/plain": [
              "  Total Households Recieved Foodstamps No Foodstamps  district number  \\\n",
              "0           289474               29587        259887               10   \n",
              "1           299804               39629        260175                4   \n",
              "2           278057               68311        209746               14   \n",
              "3           306685               33726        272959                1   \n",
              "4           285554               28441        257113                3   \n",
              "\n",
              "         State  \n",
              "0     Michigan  \n",
              "1  Mississippi  \n",
              "2     Michigan  \n",
              "3     Michigan  \n",
              "4  Mississippi  "
            ],
            "text/html": [
              "\n",
              "  <div id=\"df-1aa7f443-d480-4886-b231-1211c3e00491\">\n",
              "    <div class=\"colab-df-container\">\n",
              "      <div>\n",
              "<style scoped>\n",
              "    .dataframe tbody tr th:only-of-type {\n",
              "        vertical-align: middle;\n",
              "    }\n",
              "\n",
              "    .dataframe tbody tr th {\n",
              "        vertical-align: top;\n",
              "    }\n",
              "\n",
              "    .dataframe thead th {\n",
              "        text-align: right;\n",
              "    }\n",
              "</style>\n",
              "<table border=\"1\" class=\"dataframe\">\n",
              "  <thead>\n",
              "    <tr style=\"text-align: right;\">\n",
              "      <th></th>\n",
              "      <th>Total Households</th>\n",
              "      <th>Recieved Foodstamps</th>\n",
              "      <th>No Foodstamps</th>\n",
              "      <th>district number</th>\n",
              "      <th>State</th>\n",
              "    </tr>\n",
              "  </thead>\n",
              "  <tbody>\n",
              "    <tr>\n",
              "      <th>0</th>\n",
              "      <td>289474</td>\n",
              "      <td>29587</td>\n",
              "      <td>259887</td>\n",
              "      <td>10</td>\n",
              "      <td>Michigan</td>\n",
              "    </tr>\n",
              "    <tr>\n",
              "      <th>1</th>\n",
              "      <td>299804</td>\n",
              "      <td>39629</td>\n",
              "      <td>260175</td>\n",
              "      <td>4</td>\n",
              "      <td>Mississippi</td>\n",
              "    </tr>\n",
              "    <tr>\n",
              "      <th>2</th>\n",
              "      <td>278057</td>\n",
              "      <td>68311</td>\n",
              "      <td>209746</td>\n",
              "      <td>14</td>\n",
              "      <td>Michigan</td>\n",
              "    </tr>\n",
              "    <tr>\n",
              "      <th>3</th>\n",
              "      <td>306685</td>\n",
              "      <td>33726</td>\n",
              "      <td>272959</td>\n",
              "      <td>1</td>\n",
              "      <td>Michigan</td>\n",
              "    </tr>\n",
              "    <tr>\n",
              "      <th>4</th>\n",
              "      <td>285554</td>\n",
              "      <td>28441</td>\n",
              "      <td>257113</td>\n",
              "      <td>3</td>\n",
              "      <td>Mississippi</td>\n",
              "    </tr>\n",
              "  </tbody>\n",
              "</table>\n",
              "</div>\n",
              "      <button class=\"colab-df-convert\" onclick=\"convertToInteractive('df-1aa7f443-d480-4886-b231-1211c3e00491')\"\n",
              "              title=\"Convert this dataframe to an interactive table.\"\n",
              "              style=\"display:none;\">\n",
              "        \n",
              "  <svg xmlns=\"http://www.w3.org/2000/svg\" height=\"24px\"viewBox=\"0 0 24 24\"\n",
              "       width=\"24px\">\n",
              "    <path d=\"M0 0h24v24H0V0z\" fill=\"none\"/>\n",
              "    <path d=\"M18.56 5.44l.94 2.06.94-2.06 2.06-.94-2.06-.94-.94-2.06-.94 2.06-2.06.94zm-11 1L8.5 8.5l.94-2.06 2.06-.94-2.06-.94L8.5 2.5l-.94 2.06-2.06.94zm10 10l.94 2.06.94-2.06 2.06-.94-2.06-.94-.94-2.06-.94 2.06-2.06.94z\"/><path d=\"M17.41 7.96l-1.37-1.37c-.4-.4-.92-.59-1.43-.59-.52 0-1.04.2-1.43.59L10.3 9.45l-7.72 7.72c-.78.78-.78 2.05 0 2.83L4 21.41c.39.39.9.59 1.41.59.51 0 1.02-.2 1.41-.59l7.78-7.78 2.81-2.81c.8-.78.8-2.07 0-2.86zM5.41 20L4 18.59l7.72-7.72 1.47 1.35L5.41 20z\"/>\n",
              "  </svg>\n",
              "      </button>\n",
              "      \n",
              "  <style>\n",
              "    .colab-df-container {\n",
              "      display:flex;\n",
              "      flex-wrap:wrap;\n",
              "      gap: 12px;\n",
              "    }\n",
              "\n",
              "    .colab-df-convert {\n",
              "      background-color: #E8F0FE;\n",
              "      border: none;\n",
              "      border-radius: 50%;\n",
              "      cursor: pointer;\n",
              "      display: none;\n",
              "      fill: #1967D2;\n",
              "      height: 32px;\n",
              "      padding: 0 0 0 0;\n",
              "      width: 32px;\n",
              "    }\n",
              "\n",
              "    .colab-df-convert:hover {\n",
              "      background-color: #E2EBFA;\n",
              "      box-shadow: 0px 1px 2px rgba(60, 64, 67, 0.3), 0px 1px 3px 1px rgba(60, 64, 67, 0.15);\n",
              "      fill: #174EA6;\n",
              "    }\n",
              "\n",
              "    [theme=dark] .colab-df-convert {\n",
              "      background-color: #3B4455;\n",
              "      fill: #D2E3FC;\n",
              "    }\n",
              "\n",
              "    [theme=dark] .colab-df-convert:hover {\n",
              "      background-color: #434B5C;\n",
              "      box-shadow: 0px 1px 3px 1px rgba(0, 0, 0, 0.15);\n",
              "      filter: drop-shadow(0px 1px 2px rgba(0, 0, 0, 0.3));\n",
              "      fill: #FFFFFF;\n",
              "    }\n",
              "  </style>\n",
              "\n",
              "      <script>\n",
              "        const buttonEl =\n",
              "          document.querySelector('#df-1aa7f443-d480-4886-b231-1211c3e00491 button.colab-df-convert');\n",
              "        buttonEl.style.display =\n",
              "          google.colab.kernel.accessAllowed ? 'block' : 'none';\n",
              "\n",
              "        async function convertToInteractive(key) {\n",
              "          const element = document.querySelector('#df-1aa7f443-d480-4886-b231-1211c3e00491');\n",
              "          const dataTable =\n",
              "            await google.colab.kernel.invokeFunction('convertToInteractive',\n",
              "                                                     [key], {});\n",
              "          if (!dataTable) return;\n",
              "\n",
              "          const docLinkHtml = 'Like what you see? Visit the ' +\n",
              "            '<a target=\"_blank\" href=https://colab.research.google.com/notebooks/data_table.ipynb>data table notebook</a>'\n",
              "            + ' to learn more about interactive tables.';\n",
              "          element.innerHTML = '';\n",
              "          dataTable['output_type'] = 'display_data';\n",
              "          await google.colab.output.renderOutput(dataTable, element);\n",
              "          const docLink = document.createElement('div');\n",
              "          docLink.innerHTML = docLinkHtml;\n",
              "          element.appendChild(docLink);\n",
              "        }\n",
              "      </script>\n",
              "    </div>\n",
              "  </div>\n",
              "  "
            ]
          },
          "metadata": {},
          "execution_count": 5
        }
      ]
    },
    {
      "cell_type": "markdown",
      "source": [
        "## Read in Party Data"
      ],
      "metadata": {
        "id": "81G-yiqtKWmw"
      }
    },
    {
      "cell_type": "code",
      "source": [
        "party_df = pd.read_csv(\"http://goodcsv.com/wp-content/uploads/2020/08/us-house-of-representatives-2020.csv\", encoding = \"ISO-8859-1\")\n",
        "\n",
        "# extract the district number from the data (it was in the format of 5th and we want that to just be 5) using a regular expression.\n",
        "party_df['district number'] = party_df['District/Position'].str.extract('(\\d+)')\n",
        "party_df['district number'] = party_df['district number'].fillna(0)\n",
        "party_df['district number'] = pd.to_numeric(party_df['district number'])\n",
        "party_df['State'] = party_df['State/Territory']\n",
        "party_df['State'] = party_df['State'].str.strip()\n",
        "party_df['Party'] = party_df['Party'].str.strip() # remove extraneous whitespace\n",
        "\n",
        "# Let's just keep the columns we need\n",
        "party_df = party_df[['State', 'Party', \"district number\"]]\n",
        "\n",
        "party_df.head(5)"
      ],
      "metadata": {
        "colab": {
          "base_uri": "https://localhost:8080/",
          "height": 206
        },
        "id": "dUFSkmGv6ZDz",
        "outputId": "4c502454-7c66-4289-91e4-988b885966b2"
      },
      "execution_count": null,
      "outputs": [
        {
          "output_type": "execute_result",
          "data": {
            "text/plain": [
              "            State Party  district number\n",
              "0       Louisiana     R                5\n",
              "1  North Carolina     D               12\n",
              "2         Alabama     R                4\n",
              "3      California     D               31\n",
              "4         Georgia     R               12"
            ],
            "text/html": [
              "\n",
              "  <div id=\"df-fa4a0dac-29ac-47c8-a9d6-e5104d80332d\">\n",
              "    <div class=\"colab-df-container\">\n",
              "      <div>\n",
              "<style scoped>\n",
              "    .dataframe tbody tr th:only-of-type {\n",
              "        vertical-align: middle;\n",
              "    }\n",
              "\n",
              "    .dataframe tbody tr th {\n",
              "        vertical-align: top;\n",
              "    }\n",
              "\n",
              "    .dataframe thead th {\n",
              "        text-align: right;\n",
              "    }\n",
              "</style>\n",
              "<table border=\"1\" class=\"dataframe\">\n",
              "  <thead>\n",
              "    <tr style=\"text-align: right;\">\n",
              "      <th></th>\n",
              "      <th>State</th>\n",
              "      <th>Party</th>\n",
              "      <th>district number</th>\n",
              "    </tr>\n",
              "  </thead>\n",
              "  <tbody>\n",
              "    <tr>\n",
              "      <th>0</th>\n",
              "      <td>Louisiana</td>\n",
              "      <td>R</td>\n",
              "      <td>5</td>\n",
              "    </tr>\n",
              "    <tr>\n",
              "      <th>1</th>\n",
              "      <td>North Carolina</td>\n",
              "      <td>D</td>\n",
              "      <td>12</td>\n",
              "    </tr>\n",
              "    <tr>\n",
              "      <th>2</th>\n",
              "      <td>Alabama</td>\n",
              "      <td>R</td>\n",
              "      <td>4</td>\n",
              "    </tr>\n",
              "    <tr>\n",
              "      <th>3</th>\n",
              "      <td>California</td>\n",
              "      <td>D</td>\n",
              "      <td>31</td>\n",
              "    </tr>\n",
              "    <tr>\n",
              "      <th>4</th>\n",
              "      <td>Georgia</td>\n",
              "      <td>R</td>\n",
              "      <td>12</td>\n",
              "    </tr>\n",
              "  </tbody>\n",
              "</table>\n",
              "</div>\n",
              "      <button class=\"colab-df-convert\" onclick=\"convertToInteractive('df-fa4a0dac-29ac-47c8-a9d6-e5104d80332d')\"\n",
              "              title=\"Convert this dataframe to an interactive table.\"\n",
              "              style=\"display:none;\">\n",
              "        \n",
              "  <svg xmlns=\"http://www.w3.org/2000/svg\" height=\"24px\"viewBox=\"0 0 24 24\"\n",
              "       width=\"24px\">\n",
              "    <path d=\"M0 0h24v24H0V0z\" fill=\"none\"/>\n",
              "    <path d=\"M18.56 5.44l.94 2.06.94-2.06 2.06-.94-2.06-.94-.94-2.06-.94 2.06-2.06.94zm-11 1L8.5 8.5l.94-2.06 2.06-.94-2.06-.94L8.5 2.5l-.94 2.06-2.06.94zm10 10l.94 2.06.94-2.06 2.06-.94-2.06-.94-.94-2.06-.94 2.06-2.06.94z\"/><path d=\"M17.41 7.96l-1.37-1.37c-.4-.4-.92-.59-1.43-.59-.52 0-1.04.2-1.43.59L10.3 9.45l-7.72 7.72c-.78.78-.78 2.05 0 2.83L4 21.41c.39.39.9.59 1.41.59.51 0 1.02-.2 1.41-.59l7.78-7.78 2.81-2.81c.8-.78.8-2.07 0-2.86zM5.41 20L4 18.59l7.72-7.72 1.47 1.35L5.41 20z\"/>\n",
              "  </svg>\n",
              "      </button>\n",
              "      \n",
              "  <style>\n",
              "    .colab-df-container {\n",
              "      display:flex;\n",
              "      flex-wrap:wrap;\n",
              "      gap: 12px;\n",
              "    }\n",
              "\n",
              "    .colab-df-convert {\n",
              "      background-color: #E8F0FE;\n",
              "      border: none;\n",
              "      border-radius: 50%;\n",
              "      cursor: pointer;\n",
              "      display: none;\n",
              "      fill: #1967D2;\n",
              "      height: 32px;\n",
              "      padding: 0 0 0 0;\n",
              "      width: 32px;\n",
              "    }\n",
              "\n",
              "    .colab-df-convert:hover {\n",
              "      background-color: #E2EBFA;\n",
              "      box-shadow: 0px 1px 2px rgba(60, 64, 67, 0.3), 0px 1px 3px 1px rgba(60, 64, 67, 0.15);\n",
              "      fill: #174EA6;\n",
              "    }\n",
              "\n",
              "    [theme=dark] .colab-df-convert {\n",
              "      background-color: #3B4455;\n",
              "      fill: #D2E3FC;\n",
              "    }\n",
              "\n",
              "    [theme=dark] .colab-df-convert:hover {\n",
              "      background-color: #434B5C;\n",
              "      box-shadow: 0px 1px 3px 1px rgba(0, 0, 0, 0.15);\n",
              "      filter: drop-shadow(0px 1px 2px rgba(0, 0, 0, 0.3));\n",
              "      fill: #FFFFFF;\n",
              "    }\n",
              "  </style>\n",
              "\n",
              "      <script>\n",
              "        const buttonEl =\n",
              "          document.querySelector('#df-fa4a0dac-29ac-47c8-a9d6-e5104d80332d button.colab-df-convert');\n",
              "        buttonEl.style.display =\n",
              "          google.colab.kernel.accessAllowed ? 'block' : 'none';\n",
              "\n",
              "        async function convertToInteractive(key) {\n",
              "          const element = document.querySelector('#df-fa4a0dac-29ac-47c8-a9d6-e5104d80332d');\n",
              "          const dataTable =\n",
              "            await google.colab.kernel.invokeFunction('convertToInteractive',\n",
              "                                                     [key], {});\n",
              "          if (!dataTable) return;\n",
              "\n",
              "          const docLinkHtml = 'Like what you see? Visit the ' +\n",
              "            '<a target=\"_blank\" href=https://colab.research.google.com/notebooks/data_table.ipynb>data table notebook</a>'\n",
              "            + ' to learn more about interactive tables.';\n",
              "          element.innerHTML = '';\n",
              "          dataTable['output_type'] = 'display_data';\n",
              "          await google.colab.output.renderOutput(dataTable, element);\n",
              "          const docLink = document.createElement('div');\n",
              "          docLink.innerHTML = docLinkHtml;\n",
              "          element.appendChild(docLink);\n",
              "        }\n",
              "      </script>\n",
              "    </div>\n",
              "  </div>\n",
              "  "
            ]
          },
          "metadata": {},
          "execution_count": 6
        }
      ]
    },
    {
      "cell_type": "markdown",
      "source": [
        "## Create Foodstamp Percentages"
      ],
      "metadata": {
        "id": "SigH4xulKciU"
      }
    },
    {
      "cell_type": "code",
      "source": [
        "# Convert the number columns into number data types so we can math on them\n",
        "acs_df[\"Total Households\"] = pd.to_numeric(acs_df['Total Households'])\n",
        "acs_df[\"Recieved Foodstamps\"] = pd.to_numeric(acs_df['Recieved Foodstamps'])\n",
        "acs_df['No Foodstamps'] = pd.to_numeric(acs_df['No Foodstamps'])\n",
        "\n",
        "# Compute some new columns based on the existing columns for later visualization\n",
        "acs_df['% of households foodstamps'] = (100*acs_df['Recieved Foodstamps'])/acs_df['Total Households']\n",
        "acs_df['% of households no foodstamps'] = (100*acs_df['No Foodstamps'])/acs_df['Total Households']\n",
        "\n",
        "# now let's look at the data again\n",
        "acs_df.head()"
      ],
      "metadata": {
        "colab": {
          "base_uri": "https://localhost:8080/",
          "height": 206
        },
        "id": "9rGLRBuR5q63",
        "outputId": "b42aac57-5b2e-4e04-eab7-3507f52be4c1"
      },
      "execution_count": null,
      "outputs": [
        {
          "output_type": "execute_result",
          "data": {
            "text/plain": [
              "   Total Households  Recieved Foodstamps  No Foodstamps  district number  \\\n",
              "0            289474                29587         259887               10   \n",
              "1            299804                39629         260175                4   \n",
              "2            278057                68311         209746               14   \n",
              "3            306685                33726         272959                1   \n",
              "4            285554                28441         257113                3   \n",
              "\n",
              "         State  % of households foodstamps  % of households no foodstamps  \n",
              "0     Michigan                   10.220952                      89.779048  \n",
              "1  Mississippi                   13.218303                      86.781697  \n",
              "2     Michigan                   24.567265                      75.432735  \n",
              "3     Michigan                   10.996951                      89.003049  \n",
              "4  Mississippi                    9.959938                      90.040062  "
            ],
            "text/html": [
              "\n",
              "  <div id=\"df-6ab8a504-9bca-44a1-acc4-a482b772635b\">\n",
              "    <div class=\"colab-df-container\">\n",
              "      <div>\n",
              "<style scoped>\n",
              "    .dataframe tbody tr th:only-of-type {\n",
              "        vertical-align: middle;\n",
              "    }\n",
              "\n",
              "    .dataframe tbody tr th {\n",
              "        vertical-align: top;\n",
              "    }\n",
              "\n",
              "    .dataframe thead th {\n",
              "        text-align: right;\n",
              "    }\n",
              "</style>\n",
              "<table border=\"1\" class=\"dataframe\">\n",
              "  <thead>\n",
              "    <tr style=\"text-align: right;\">\n",
              "      <th></th>\n",
              "      <th>Total Households</th>\n",
              "      <th>Recieved Foodstamps</th>\n",
              "      <th>No Foodstamps</th>\n",
              "      <th>district number</th>\n",
              "      <th>State</th>\n",
              "      <th>% of households foodstamps</th>\n",
              "      <th>% of households no foodstamps</th>\n",
              "    </tr>\n",
              "  </thead>\n",
              "  <tbody>\n",
              "    <tr>\n",
              "      <th>0</th>\n",
              "      <td>289474</td>\n",
              "      <td>29587</td>\n",
              "      <td>259887</td>\n",
              "      <td>10</td>\n",
              "      <td>Michigan</td>\n",
              "      <td>10.220952</td>\n",
              "      <td>89.779048</td>\n",
              "    </tr>\n",
              "    <tr>\n",
              "      <th>1</th>\n",
              "      <td>299804</td>\n",
              "      <td>39629</td>\n",
              "      <td>260175</td>\n",
              "      <td>4</td>\n",
              "      <td>Mississippi</td>\n",
              "      <td>13.218303</td>\n",
              "      <td>86.781697</td>\n",
              "    </tr>\n",
              "    <tr>\n",
              "      <th>2</th>\n",
              "      <td>278057</td>\n",
              "      <td>68311</td>\n",
              "      <td>209746</td>\n",
              "      <td>14</td>\n",
              "      <td>Michigan</td>\n",
              "      <td>24.567265</td>\n",
              "      <td>75.432735</td>\n",
              "    </tr>\n",
              "    <tr>\n",
              "      <th>3</th>\n",
              "      <td>306685</td>\n",
              "      <td>33726</td>\n",
              "      <td>272959</td>\n",
              "      <td>1</td>\n",
              "      <td>Michigan</td>\n",
              "      <td>10.996951</td>\n",
              "      <td>89.003049</td>\n",
              "    </tr>\n",
              "    <tr>\n",
              "      <th>4</th>\n",
              "      <td>285554</td>\n",
              "      <td>28441</td>\n",
              "      <td>257113</td>\n",
              "      <td>3</td>\n",
              "      <td>Mississippi</td>\n",
              "      <td>9.959938</td>\n",
              "      <td>90.040062</td>\n",
              "    </tr>\n",
              "  </tbody>\n",
              "</table>\n",
              "</div>\n",
              "      <button class=\"colab-df-convert\" onclick=\"convertToInteractive('df-6ab8a504-9bca-44a1-acc4-a482b772635b')\"\n",
              "              title=\"Convert this dataframe to an interactive table.\"\n",
              "              style=\"display:none;\">\n",
              "        \n",
              "  <svg xmlns=\"http://www.w3.org/2000/svg\" height=\"24px\"viewBox=\"0 0 24 24\"\n",
              "       width=\"24px\">\n",
              "    <path d=\"M0 0h24v24H0V0z\" fill=\"none\"/>\n",
              "    <path d=\"M18.56 5.44l.94 2.06.94-2.06 2.06-.94-2.06-.94-.94-2.06-.94 2.06-2.06.94zm-11 1L8.5 8.5l.94-2.06 2.06-.94-2.06-.94L8.5 2.5l-.94 2.06-2.06.94zm10 10l.94 2.06.94-2.06 2.06-.94-2.06-.94-.94-2.06-.94 2.06-2.06.94z\"/><path d=\"M17.41 7.96l-1.37-1.37c-.4-.4-.92-.59-1.43-.59-.52 0-1.04.2-1.43.59L10.3 9.45l-7.72 7.72c-.78.78-.78 2.05 0 2.83L4 21.41c.39.39.9.59 1.41.59.51 0 1.02-.2 1.41-.59l7.78-7.78 2.81-2.81c.8-.78.8-2.07 0-2.86zM5.41 20L4 18.59l7.72-7.72 1.47 1.35L5.41 20z\"/>\n",
              "  </svg>\n",
              "      </button>\n",
              "      \n",
              "  <style>\n",
              "    .colab-df-container {\n",
              "      display:flex;\n",
              "      flex-wrap:wrap;\n",
              "      gap: 12px;\n",
              "    }\n",
              "\n",
              "    .colab-df-convert {\n",
              "      background-color: #E8F0FE;\n",
              "      border: none;\n",
              "      border-radius: 50%;\n",
              "      cursor: pointer;\n",
              "      display: none;\n",
              "      fill: #1967D2;\n",
              "      height: 32px;\n",
              "      padding: 0 0 0 0;\n",
              "      width: 32px;\n",
              "    }\n",
              "\n",
              "    .colab-df-convert:hover {\n",
              "      background-color: #E2EBFA;\n",
              "      box-shadow: 0px 1px 2px rgba(60, 64, 67, 0.3), 0px 1px 3px 1px rgba(60, 64, 67, 0.15);\n",
              "      fill: #174EA6;\n",
              "    }\n",
              "\n",
              "    [theme=dark] .colab-df-convert {\n",
              "      background-color: #3B4455;\n",
              "      fill: #D2E3FC;\n",
              "    }\n",
              "\n",
              "    [theme=dark] .colab-df-convert:hover {\n",
              "      background-color: #434B5C;\n",
              "      box-shadow: 0px 1px 3px 1px rgba(0, 0, 0, 0.15);\n",
              "      filter: drop-shadow(0px 1px 2px rgba(0, 0, 0, 0.3));\n",
              "      fill: #FFFFFF;\n",
              "    }\n",
              "  </style>\n",
              "\n",
              "      <script>\n",
              "        const buttonEl =\n",
              "          document.querySelector('#df-6ab8a504-9bca-44a1-acc4-a482b772635b button.colab-df-convert');\n",
              "        buttonEl.style.display =\n",
              "          google.colab.kernel.accessAllowed ? 'block' : 'none';\n",
              "\n",
              "        async function convertToInteractive(key) {\n",
              "          const element = document.querySelector('#df-6ab8a504-9bca-44a1-acc4-a482b772635b');\n",
              "          const dataTable =\n",
              "            await google.colab.kernel.invokeFunction('convertToInteractive',\n",
              "                                                     [key], {});\n",
              "          if (!dataTable) return;\n",
              "\n",
              "          const docLinkHtml = 'Like what you see? Visit the ' +\n",
              "            '<a target=\"_blank\" href=https://colab.research.google.com/notebooks/data_table.ipynb>data table notebook</a>'\n",
              "            + ' to learn more about interactive tables.';\n",
              "          element.innerHTML = '';\n",
              "          dataTable['output_type'] = 'display_data';\n",
              "          await google.colab.output.renderOutput(dataTable, element);\n",
              "          const docLink = document.createElement('div');\n",
              "          docLink.innerHTML = docLinkHtml;\n",
              "          element.appendChild(docLink);\n",
              "        }\n",
              "      </script>\n",
              "    </div>\n",
              "  </div>\n",
              "  "
            ]
          },
          "metadata": {},
          "execution_count": 7
        }
      ]
    },
    {
      "cell_type": "markdown",
      "source": [
        "## Merge Dataframes"
      ],
      "metadata": {
        "id": "snAzdNIVKko7"
      }
    },
    {
      "cell_type": "code",
      "source": [
        "# Merge is like a sql natural join. We are joining on the State and District numbers being the same between the two sets.\n",
        "merged_df = pd.merge(acs_df, party_df, on=[\"State\", \"district number\"])\n",
        "\n",
        "merged_df.describe()"
      ],
      "metadata": {
        "colab": {
          "base_uri": "https://localhost:8080/",
          "height": 300
        },
        "id": "LSvKWnwO6w1o",
        "outputId": "6b263a02-0fb7-4e44-c9cd-15ec576d4273"
      },
      "execution_count": null,
      "outputs": [
        {
          "output_type": "execute_result",
          "data": {
            "text/plain": [
              "       Total Households  Recieved Foodstamps  No Foodstamps  district number  \\\n",
              "count        435.000000           435.000000     435.000000       435.000000   \n",
              "mean      292471.643678         36305.937931  256165.705747        10.158621   \n",
              "std        33670.787672         15208.133255   37442.167364        10.656779   \n",
              "min       183319.000000          9227.000000  140888.000000         0.000000   \n",
              "25%       273747.000000         26315.500000  235487.000000         3.000000   \n",
              "50%       292311.000000         34645.000000  258110.000000         6.000000   \n",
              "75%       311849.500000         43300.500000  278591.000000        13.000000   \n",
              "max       448949.000000        125624.000000  410144.000000        53.000000   \n",
              "\n",
              "       % of households foodstamps  % of households no foodstamps  \n",
              "count                  435.000000                     435.000000  \n",
              "mean                    12.605225                      87.394775  \n",
              "std                      5.626659                       5.626659  \n",
              "min                      2.805607                      52.863661  \n",
              "25%                      8.671962                      84.465260  \n",
              "50%                     11.698810                      88.301190  \n",
              "75%                     15.534740                      91.328038  \n",
              "max                     47.136339                      97.194393  "
            ],
            "text/html": [
              "\n",
              "  <div id=\"df-b5067af3-07a9-4bf0-a94c-e10af5c10553\">\n",
              "    <div class=\"colab-df-container\">\n",
              "      <div>\n",
              "<style scoped>\n",
              "    .dataframe tbody tr th:only-of-type {\n",
              "        vertical-align: middle;\n",
              "    }\n",
              "\n",
              "    .dataframe tbody tr th {\n",
              "        vertical-align: top;\n",
              "    }\n",
              "\n",
              "    .dataframe thead th {\n",
              "        text-align: right;\n",
              "    }\n",
              "</style>\n",
              "<table border=\"1\" class=\"dataframe\">\n",
              "  <thead>\n",
              "    <tr style=\"text-align: right;\">\n",
              "      <th></th>\n",
              "      <th>Total Households</th>\n",
              "      <th>Recieved Foodstamps</th>\n",
              "      <th>No Foodstamps</th>\n",
              "      <th>district number</th>\n",
              "      <th>% of households foodstamps</th>\n",
              "      <th>% of households no foodstamps</th>\n",
              "    </tr>\n",
              "  </thead>\n",
              "  <tbody>\n",
              "    <tr>\n",
              "      <th>count</th>\n",
              "      <td>435.000000</td>\n",
              "      <td>435.000000</td>\n",
              "      <td>435.000000</td>\n",
              "      <td>435.000000</td>\n",
              "      <td>435.000000</td>\n",
              "      <td>435.000000</td>\n",
              "    </tr>\n",
              "    <tr>\n",
              "      <th>mean</th>\n",
              "      <td>292471.643678</td>\n",
              "      <td>36305.937931</td>\n",
              "      <td>256165.705747</td>\n",
              "      <td>10.158621</td>\n",
              "      <td>12.605225</td>\n",
              "      <td>87.394775</td>\n",
              "    </tr>\n",
              "    <tr>\n",
              "      <th>std</th>\n",
              "      <td>33670.787672</td>\n",
              "      <td>15208.133255</td>\n",
              "      <td>37442.167364</td>\n",
              "      <td>10.656779</td>\n",
              "      <td>5.626659</td>\n",
              "      <td>5.626659</td>\n",
              "    </tr>\n",
              "    <tr>\n",
              "      <th>min</th>\n",
              "      <td>183319.000000</td>\n",
              "      <td>9227.000000</td>\n",
              "      <td>140888.000000</td>\n",
              "      <td>0.000000</td>\n",
              "      <td>2.805607</td>\n",
              "      <td>52.863661</td>\n",
              "    </tr>\n",
              "    <tr>\n",
              "      <th>25%</th>\n",
              "      <td>273747.000000</td>\n",
              "      <td>26315.500000</td>\n",
              "      <td>235487.000000</td>\n",
              "      <td>3.000000</td>\n",
              "      <td>8.671962</td>\n",
              "      <td>84.465260</td>\n",
              "    </tr>\n",
              "    <tr>\n",
              "      <th>50%</th>\n",
              "      <td>292311.000000</td>\n",
              "      <td>34645.000000</td>\n",
              "      <td>258110.000000</td>\n",
              "      <td>6.000000</td>\n",
              "      <td>11.698810</td>\n",
              "      <td>88.301190</td>\n",
              "    </tr>\n",
              "    <tr>\n",
              "      <th>75%</th>\n",
              "      <td>311849.500000</td>\n",
              "      <td>43300.500000</td>\n",
              "      <td>278591.000000</td>\n",
              "      <td>13.000000</td>\n",
              "      <td>15.534740</td>\n",
              "      <td>91.328038</td>\n",
              "    </tr>\n",
              "    <tr>\n",
              "      <th>max</th>\n",
              "      <td>448949.000000</td>\n",
              "      <td>125624.000000</td>\n",
              "      <td>410144.000000</td>\n",
              "      <td>53.000000</td>\n",
              "      <td>47.136339</td>\n",
              "      <td>97.194393</td>\n",
              "    </tr>\n",
              "  </tbody>\n",
              "</table>\n",
              "</div>\n",
              "      <button class=\"colab-df-convert\" onclick=\"convertToInteractive('df-b5067af3-07a9-4bf0-a94c-e10af5c10553')\"\n",
              "              title=\"Convert this dataframe to an interactive table.\"\n",
              "              style=\"display:none;\">\n",
              "        \n",
              "  <svg xmlns=\"http://www.w3.org/2000/svg\" height=\"24px\"viewBox=\"0 0 24 24\"\n",
              "       width=\"24px\">\n",
              "    <path d=\"M0 0h24v24H0V0z\" fill=\"none\"/>\n",
              "    <path d=\"M18.56 5.44l.94 2.06.94-2.06 2.06-.94-2.06-.94-.94-2.06-.94 2.06-2.06.94zm-11 1L8.5 8.5l.94-2.06 2.06-.94-2.06-.94L8.5 2.5l-.94 2.06-2.06.94zm10 10l.94 2.06.94-2.06 2.06-.94-2.06-.94-.94-2.06-.94 2.06-2.06.94z\"/><path d=\"M17.41 7.96l-1.37-1.37c-.4-.4-.92-.59-1.43-.59-.52 0-1.04.2-1.43.59L10.3 9.45l-7.72 7.72c-.78.78-.78 2.05 0 2.83L4 21.41c.39.39.9.59 1.41.59.51 0 1.02-.2 1.41-.59l7.78-7.78 2.81-2.81c.8-.78.8-2.07 0-2.86zM5.41 20L4 18.59l7.72-7.72 1.47 1.35L5.41 20z\"/>\n",
              "  </svg>\n",
              "      </button>\n",
              "      \n",
              "  <style>\n",
              "    .colab-df-container {\n",
              "      display:flex;\n",
              "      flex-wrap:wrap;\n",
              "      gap: 12px;\n",
              "    }\n",
              "\n",
              "    .colab-df-convert {\n",
              "      background-color: #E8F0FE;\n",
              "      border: none;\n",
              "      border-radius: 50%;\n",
              "      cursor: pointer;\n",
              "      display: none;\n",
              "      fill: #1967D2;\n",
              "      height: 32px;\n",
              "      padding: 0 0 0 0;\n",
              "      width: 32px;\n",
              "    }\n",
              "\n",
              "    .colab-df-convert:hover {\n",
              "      background-color: #E2EBFA;\n",
              "      box-shadow: 0px 1px 2px rgba(60, 64, 67, 0.3), 0px 1px 3px 1px rgba(60, 64, 67, 0.15);\n",
              "      fill: #174EA6;\n",
              "    }\n",
              "\n",
              "    [theme=dark] .colab-df-convert {\n",
              "      background-color: #3B4455;\n",
              "      fill: #D2E3FC;\n",
              "    }\n",
              "\n",
              "    [theme=dark] .colab-df-convert:hover {\n",
              "      background-color: #434B5C;\n",
              "      box-shadow: 0px 1px 3px 1px rgba(0, 0, 0, 0.15);\n",
              "      filter: drop-shadow(0px 1px 2px rgba(0, 0, 0, 0.3));\n",
              "      fill: #FFFFFF;\n",
              "    }\n",
              "  </style>\n",
              "\n",
              "      <script>\n",
              "        const buttonEl =\n",
              "          document.querySelector('#df-b5067af3-07a9-4bf0-a94c-e10af5c10553 button.colab-df-convert');\n",
              "        buttonEl.style.display =\n",
              "          google.colab.kernel.accessAllowed ? 'block' : 'none';\n",
              "\n",
              "        async function convertToInteractive(key) {\n",
              "          const element = document.querySelector('#df-b5067af3-07a9-4bf0-a94c-e10af5c10553');\n",
              "          const dataTable =\n",
              "            await google.colab.kernel.invokeFunction('convertToInteractive',\n",
              "                                                     [key], {});\n",
              "          if (!dataTable) return;\n",
              "\n",
              "          const docLinkHtml = 'Like what you see? Visit the ' +\n",
              "            '<a target=\"_blank\" href=https://colab.research.google.com/notebooks/data_table.ipynb>data table notebook</a>'\n",
              "            + ' to learn more about interactive tables.';\n",
              "          element.innerHTML = '';\n",
              "          dataTable['output_type'] = 'display_data';\n",
              "          await google.colab.output.renderOutput(dataTable, element);\n",
              "          const docLink = document.createElement('div');\n",
              "          docLink.innerHTML = docLinkHtml;\n",
              "          element.appendChild(docLink);\n",
              "        }\n",
              "      </script>\n",
              "    </div>\n",
              "  </div>\n",
              "  "
            ]
          },
          "metadata": {},
          "execution_count": 8
        }
      ]
    },
    {
      "cell_type": "markdown",
      "source": [
        "## Barplot: Average % of Households Receiving Foodstamps"
      ],
      "metadata": {
        "id": "EL2i-s13Kqbo"
      }
    },
    {
      "cell_type": "code",
      "source": [
        "import seaborn as sns"
      ],
      "metadata": {
        "id": "gWwj8V2CA7SW"
      },
      "execution_count": null,
      "outputs": []
    },
    {
      "cell_type": "code",
      "source": [
        "average = merged_df.groupby(\"Party\")[\"% of households foodstamps\"].mean()\n",
        "\n",
        "colors= {\"D\":\"blue\",\"L\":\"gold\", \"R\": \"red\"}\n",
        "\n",
        "ax=sns.barplot(x=average.index, y=average.values, palette=colors)\n",
        "\n",
        "ax.yaxis.set_visible(False)\n",
        "\n",
        "for i, value in enumerate(average.values):\n",
        "    ax.text(i, value, f'{value:.1f}%', ha=\"center\", fontsize=18)\n",
        "\n",
        "sns.despine(left=True)\n",
        "\n",
        "plt.legend()\n",
        "plt.show()"
      ],
      "metadata": {
        "colab": {
          "base_uri": "https://localhost:8080/",
          "height": 301
        },
        "id": "bikL0yqB7O6Y",
        "outputId": "6d0b1644-9d5d-45d2-fb8d-0d0edb0450a0"
      },
      "execution_count": null,
      "outputs": [
        {
          "output_type": "stream",
          "name": "stderr",
          "text": [
            "WARNING:matplotlib.legend:No handles with labels found to put in legend.\n"
          ]
        },
        {
          "output_type": "display_data",
          "data": {
            "text/plain": [
              "<Figure size 432x288 with 1 Axes>"
            ],
            "image/png": "[encoded data removed]"
          },
          "metadata": {
            "needs_background": "light"
          }
        }
      ]
    },
    {
      "cell_type": "markdown",
      "source": [
        "## Barplot: Median % of Households Receiving Foodstamps"
      ],
      "metadata": {
        "id": "nzzMZr7wLBeg"
      }
    },
    {
      "cell_type": "code",
      "source": [
        "median = merged_df.groupby(\"Party\")[\"% of households foodstamps\"].median()\n",
        "\n",
        "colors= {\"D\":\"blue\",\"L\":\"gold\", \"R\": \"red\"}\n",
        "\n",
        "ax=sns.barplot(x=median.index, y=median.values, palette=colors)\n",
        "\n",
        "ax.yaxis.set_visible(False)\n",
        "\n",
        "for i, value in enumerate(median.values):\n",
        "    ax.text(i, value, f'{value:.1f}%', ha=\"center\", fontsize=18)\n",
        "\n",
        "sns.despine(left=True)\n",
        "\n",
        "plt.legend()\n",
        "plt.show()"
      ],
      "metadata": {
        "colab": {
          "base_uri": "https://localhost:8080/",
          "height": 301
        },
        "id": "ZJ3wwAgZFNF8",
        "outputId": "b3f45ab4-989e-42c8-93d9-0c5113b52ec5"
      },
      "execution_count": null,
      "outputs": [
        {
          "output_type": "stream",
          "name": "stderr",
          "text": [
            "WARNING:matplotlib.legend:No handles with labels found to put in legend.\n"
          ]
        },
        {
          "output_type": "display_data",
          "data": {
            "text/plain": [
              "<Figure size 432x288 with 1 Axes>"
            ],
            "image/png": "[encoded data removed]"
          },
          "metadata": {
            "needs_background": "light"
          }
        }
      ]
    },
    {
      "cell_type": "markdown",
      "source": [
        "## Top 10 and Bottom 10 Districts"
      ],
      "metadata": {
        "id": "G_l8RbGgHrP-"
      }
    },
    {
      "cell_type": "code",
      "source": [
        "df_descending = merged_df.sort_values(\"% of households foodstamps\", ascending=False)\n",
        "\n",
        "desc= df_descending[[\"Party\",\"% of households foodstamps\", \"State\", \"district number\"]]\n",
        "\n",
        "# bottom 10 \n",
        "print(desc.head(10))"
      ],
      "metadata": {
        "colab": {
          "base_uri": "https://localhost:8080/"
        },
        "id": "S41T2ji_HQTl",
        "outputId": "1bb36adb-f24a-475e-84bf-68d4e670fac4"
      },
      "execution_count": null,
      "outputs": [
        {
          "output_type": "stream",
          "name": "stdout",
          "text": [
            "    Party  % of households foodstamps         State  district number\n",
            "276     D                   47.136339      New York               15\n",
            "19      D                   31.727897      New York               13\n",
            "227     D                   31.121851      Michigan               13\n",
            "277     D                   30.736612  Pennsylvania                2\n",
            "155     D                   29.298095       Florida               24\n",
            "353     D                   26.675203     Wisconsin                4\n",
            "347     D                   26.293892         Texas               34\n",
            "411     R                   26.068994      Kentucky                5\n",
            "248     D                   26.042580          Ohio               11\n",
            "109     D                   25.837134    California               16\n"
          ]
        }
      ]
    },
    {
      "cell_type": "code",
      "source": [
        "df_ascending = merged_df.sort_values(\"% of households foodstamps\")\n",
        "\n",
        "asc = df_ascending[[\"Party\",\"% of households foodstamps\", \"State\", \"district number\"]]\n",
        "\n",
        "# top 10 \n",
        "print(asc.head(10))"
      ],
      "metadata": {
        "colab": {
          "base_uri": "https://localhost:8080/"
        },
        "id": "Z2jj8IrOEFBM",
        "outputId": "26e04a04-686b-4637-a3a6-8b5ac1296453"
      },
      "execution_count": null,
      "outputs": [
        {
          "output_type": "stream",
          "name": "stdout",
          "text": [
            "    Party  % of households foodstamps       State  district number\n",
            "315     R                    2.805607       Texas                3\n",
            "242     D                    3.232621  New Jersey               11\n",
            "403     D                    3.561407     Georgia                6\n",
            "216     R                    3.751107    Missouri                2\n",
            "112     D                    3.766951  California               18\n",
            "62      D                    3.838902    Virginia               10\n",
            "264     D                    3.918898    New York                3\n",
            "27      D                    3.952794  New Jersey                5\n",
            "28      D                    4.193566  New Jersey                7\n",
            "324     D                    4.318915    Virginia               11\n"
          ]
        }
      ]
    },
    {
      "cell_type": "markdown",
      "source": [
        "## % of Households Receiving Foodstamps Distribution (Dems)"
      ],
      "metadata": {
        "id": "3bDJ07I2LIc1"
      }
    },
    {
      "cell_type": "code",
      "source": [
        "df_dem = merged_df[merged_df['Party']== \"D\"]\n",
        "\n",
        "sns.histplot(df_dem[\"% of households foodstamps\"], bins = 20, color=\"blue\")\n",
        "\n",
        "plt.xlim(0, 50)\n",
        "\n",
        "plt.ylim(0,40)\n",
        "\n",
        "sns.despine()\n",
        "\n"
      ],
      "metadata": {
        "colab": {
          "base_uri": "https://localhost:8080/",
          "height": 283
        },
        "id": "LPd0udCKMFVE",
        "outputId": "3d60ce6a-3ef6-47ae-86d3-4b76714eaba0"
      },
      "execution_count": null,
      "outputs": [
        {
          "output_type": "display_data",
          "data": {
            "text/plain": [
              "<Figure size 432x288 with 1 Axes>"
            ],
            "image/png": "[encoded data removed]"
          },
          "metadata": {
            "needs_background": "light"
          }
        }
      ]
    },
    {
      "cell_type": "markdown",
      "source": [
        "## % of Households Receiving Foodstamps Distribution (Reps)"
      ],
      "metadata": {
        "id": "aZSWdKlCLkdC"
      }
    },
    {
      "cell_type": "code",
      "source": [
        "df_rep = merged_df[merged_df['Party']== \"R\"]\n",
        "\n",
        "sns.histplot(df_rep[\"% of households foodstamps\"],bins = 20, color=\"red\")\n",
        "\n",
        "plt.xlim(0, 50)\n",
        "\n",
        "plt.ylim(0,40)\n",
        "\n",
        "sns.despine()"
      ],
      "metadata": {
        "colab": {
          "base_uri": "https://localhost:8080/",
          "height": 283
        },
        "id": "yXFBF0BFOlmr",
        "outputId": "23163776-9523-402c-ccef-71415937b053"
      },
      "execution_count": null,
      "outputs": [
        {
          "output_type": "display_data",
          "data": {
            "text/plain": [
              "<Figure size 432x288 with 1 Axes>"
            ],
            "image/png": "[encoded data removed]"
          },
          "metadata": {
            "needs_background": "light"
          }
        }
      ]
    },
    {
      "cell_type": "markdown",
      "source": [
        "## Results of Analysis "
      ],
      "metadata": {
        "id": "KRlEI6zMPbtz"
      }
    },
    {
      "cell_type": "markdown",
      "source": [
        "Given the results above and the analysis we just discussed, we can conclude that overall there is support for our hypothesis that Democratic districts have a higher percentage of people receiving foodstamps. However, Democratic districts vere towards the extreems on both sides and Republican districts have a more normal distribution."
      ],
      "metadata": {
        "id": "snG-eDhIPhCy"
      }
    }
  ]
}